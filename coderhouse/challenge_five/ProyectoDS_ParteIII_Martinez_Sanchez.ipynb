{
 "cells": [
  {
   "cell_type": "markdown",
   "id": "9fa452f1",
   "metadata": {},
   "source": [
    "## MiBici Guadalajara, México\n",
    "\n",
    "### Feature Selection: Forward Selection\n",
    "\n",
    "A continuación realizaremos el feature selection de nuestro data set usando el método \"Forward Selection\""
   ]
  },
  {
   "cell_type": "code",
   "execution_count": 107,
   "id": "4c6a7bf3",
   "metadata": {},
   "outputs": [
    {
     "name": "stdout",
     "output_type": "stream",
     "text": [
      "Requirement already satisfied: mlxtend in /Users/oscar/miniconda3/lib/python3.10/site-packages (0.22.0)\n",
      "Requirement already satisfied: scikit-learn>=1.0.2 in /Users/oscar/miniconda3/lib/python3.10/site-packages (from mlxtend) (1.2.2)\n",
      "Requirement already satisfied: scipy>=1.2.1 in /Users/oscar/miniconda3/lib/python3.10/site-packages (from mlxtend) (1.10.1)\n",
      "Requirement already satisfied: setuptools in /Users/oscar/miniconda3/lib/python3.10/site-packages (from mlxtend) (65.6.3)\n",
      "Requirement already satisfied: numpy>=1.16.2 in /Users/oscar/miniconda3/lib/python3.10/site-packages (from mlxtend) (1.24.3)\n",
      "Requirement already satisfied: pandas>=0.24.2 in /Users/oscar/miniconda3/lib/python3.10/site-packages (from mlxtend) (1.5.3)\n",
      "Requirement already satisfied: matplotlib>=3.0.0 in /Users/oscar/miniconda3/lib/python3.10/site-packages (from mlxtend) (3.7.1)\n",
      "Requirement already satisfied: joblib>=0.13.2 in /Users/oscar/miniconda3/lib/python3.10/site-packages (from mlxtend) (1.1.1)\n",
      "Requirement already satisfied: packaging>=20.0 in /Users/oscar/miniconda3/lib/python3.10/site-packages (from matplotlib>=3.0.0->mlxtend) (23.0)\n",
      "Requirement already satisfied: cycler>=0.10 in /Users/oscar/miniconda3/lib/python3.10/site-packages (from matplotlib>=3.0.0->mlxtend) (0.11.0)\n",
      "Requirement already satisfied: kiwisolver>=1.0.1 in /Users/oscar/miniconda3/lib/python3.10/site-packages (from matplotlib>=3.0.0->mlxtend) (1.4.4)\n",
      "Requirement already satisfied: fonttools>=4.22.0 in /Users/oscar/miniconda3/lib/python3.10/site-packages (from matplotlib>=3.0.0->mlxtend) (4.25.0)\n",
      "Requirement already satisfied: pyparsing>=2.3.1 in /Users/oscar/miniconda3/lib/python3.10/site-packages (from matplotlib>=3.0.0->mlxtend) (3.0.9)\n",
      "Requirement already satisfied: python-dateutil>=2.7 in /Users/oscar/miniconda3/lib/python3.10/site-packages (from matplotlib>=3.0.0->mlxtend) (2.8.2)\n",
      "Requirement already satisfied: pillow>=6.2.0 in /Users/oscar/miniconda3/lib/python3.10/site-packages (from matplotlib>=3.0.0->mlxtend) (9.4.0)\n",
      "Requirement already satisfied: contourpy>=1.0.1 in /Users/oscar/miniconda3/lib/python3.10/site-packages (from matplotlib>=3.0.0->mlxtend) (1.0.5)\n",
      "Requirement already satisfied: pytz>=2020.1 in /Users/oscar/miniconda3/lib/python3.10/site-packages (from pandas>=0.24.2->mlxtend) (2023.3)\n",
      "Requirement already satisfied: threadpoolctl>=2.0.0 in /Users/oscar/miniconda3/lib/python3.10/site-packages (from scikit-learn>=1.0.2->mlxtend) (2.2.0)\n",
      "Requirement already satisfied: six>=1.5 in /Users/oscar/miniconda3/lib/python3.10/site-packages (from python-dateutil>=2.7->matplotlib>=3.0.0->mlxtend) (1.16.0)\n"
     ]
    }
   ],
   "source": [
    "!pip install mlxtend"
   ]
  },
  {
   "cell_type": "code",
   "execution_count": 108,
   "id": "156da304",
   "metadata": {
    "scrolled": true
   },
   "outputs": [],
   "source": [
    "import pandas as pd\n",
    "import numpy as np\n",
    "from mlxtend.feature_selection import SequentialFeatureSelector as SFS\n",
    "from sklearn.linear_model import LinearRegression\n",
    "import sys\n",
    "import joblib\n",
    "from IPython.display import display, HTML\n",
    "from sklearn.metrics import r2_score\n",
    "sys.modules['sklearn.externals.joblib'] = joblib"
   ]
  },
  {
   "cell_type": "code",
   "execution_count": 109,
   "id": "2be84043",
   "metadata": {},
   "outputs": [],
   "source": [
    "# loading aaour dataset\n",
    "raw_df = pd.read_csv('../challenge_three/datasets/mibici_2021_2023.csv')\n",
    "\n",
    "# removing outliers\n",
    "# calculating upper and lower limit to avoid outliers\n",
    "upper_limit_age = raw_df['age'].mean() + 2* raw_df['age'].std() # Right from the mean\n",
    "lower_limit_age = raw_df['age'].mean() - 2* raw_df['age'].std() # Left from the mean\n",
    "# trip duartion outliers\n",
    "upper_limit_trip_duration = raw_df['trip_duration_hours'].mean() + 2* raw_df['trip_duration_hours'].std() # Right from the mean\n",
    "lower_limit_trip_duration = raw_df['trip_duration_hours'].mean() - 2* raw_df['trip_duration_hours'].std() # Left from the mean\n",
    "\n",
    "# filtering data to avoid outliers in age column\n",
    "df = raw_df.copy()\n",
    "df = df[(df['age']>lower_limit_age) & (df['age']<upper_limit_age)]\n",
    "df = df[(df_cleaned['trip_duration_hours']>lower_limit_trip_duration) & (df['trip_duration_hours']<upper_limit_trip_duration)]\n",
    "df = df.dropna()"
   ]
  },
  {
   "cell_type": "code",
   "execution_count": 110,
   "id": "f6d657fb",
   "metadata": {},
   "outputs": [
    {
     "data": {
      "text/html": [
       "<div>\n",
       "<style scoped>\n",
       "    .dataframe tbody tr th:only-of-type {\n",
       "        vertical-align: middle;\n",
       "    }\n",
       "\n",
       "    .dataframe tbody tr th {\n",
       "        vertical-align: top;\n",
       "    }\n",
       "\n",
       "    .dataframe thead th {\n",
       "        text-align: right;\n",
       "    }\n",
       "</style>\n",
       "<table border=\"1\" class=\"dataframe\">\n",
       "  <thead>\n",
       "    <tr style=\"text-align: right;\">\n",
       "      <th></th>\n",
       "      <th>user_id</th>\n",
       "      <th>gender</th>\n",
       "      <th>age</th>\n",
       "      <th>year</th>\n",
       "      <th>origin_id</th>\n",
       "      <th>origin_latitude</th>\n",
       "      <th>origin_longitude</th>\n",
       "      <th>destination_id</th>\n",
       "      <th>destination_latitude</th>\n",
       "      <th>destination_longitude</th>\n",
       "    </tr>\n",
       "  </thead>\n",
       "  <tbody>\n",
       "    <tr>\n",
       "      <th>0</th>\n",
       "      <td>70123</td>\n",
       "      <td>1</td>\n",
       "      <td>56.0</td>\n",
       "      <td>2023</td>\n",
       "      <td>64</td>\n",
       "      <td>20.673072</td>\n",
       "      <td>-103.365055</td>\n",
       "      <td>141</td>\n",
       "      <td>20.65381</td>\n",
       "      <td>-103.40134</td>\n",
       "    </tr>\n",
       "    <tr>\n",
       "      <th>1</th>\n",
       "      <td>1515654</td>\n",
       "      <td>2</td>\n",
       "      <td>29.0</td>\n",
       "      <td>2023</td>\n",
       "      <td>50</td>\n",
       "      <td>20.674721</td>\n",
       "      <td>-103.358548</td>\n",
       "      <td>141</td>\n",
       "      <td>20.65381</td>\n",
       "      <td>-103.40134</td>\n",
       "    </tr>\n",
       "    <tr>\n",
       "      <th>2</th>\n",
       "      <td>306600</td>\n",
       "      <td>1</td>\n",
       "      <td>32.0</td>\n",
       "      <td>2023</td>\n",
       "      <td>131</td>\n",
       "      <td>20.666914</td>\n",
       "      <td>-103.402512</td>\n",
       "      <td>141</td>\n",
       "      <td>20.65381</td>\n",
       "      <td>-103.40134</td>\n",
       "    </tr>\n",
       "    <tr>\n",
       "      <th>3</th>\n",
       "      <td>1107631</td>\n",
       "      <td>1</td>\n",
       "      <td>27.0</td>\n",
       "      <td>2023</td>\n",
       "      <td>131</td>\n",
       "      <td>20.666914</td>\n",
       "      <td>-103.402512</td>\n",
       "      <td>141</td>\n",
       "      <td>20.65381</td>\n",
       "      <td>-103.40134</td>\n",
       "    </tr>\n",
       "    <tr>\n",
       "      <th>4</th>\n",
       "      <td>1744633</td>\n",
       "      <td>1</td>\n",
       "      <td>29.0</td>\n",
       "      <td>2023</td>\n",
       "      <td>313</td>\n",
       "      <td>20.663707</td>\n",
       "      <td>-103.417817</td>\n",
       "      <td>141</td>\n",
       "      <td>20.65381</td>\n",
       "      <td>-103.40134</td>\n",
       "    </tr>\n",
       "  </tbody>\n",
       "</table>\n",
       "</div>"
      ],
      "text/plain": [
       "   user_id  gender   age  year  origin_id  origin_latitude  origin_longitude  \\\n",
       "0    70123       1  56.0  2023         64        20.673072       -103.365055   \n",
       "1  1515654       2  29.0  2023         50        20.674721       -103.358548   \n",
       "2   306600       1  32.0  2023        131        20.666914       -103.402512   \n",
       "3  1107631       1  27.0  2023        131        20.666914       -103.402512   \n",
       "4  1744633       1  29.0  2023        313        20.663707       -103.417817   \n",
       "\n",
       "   destination_id  destination_latitude  destination_longitude  \n",
       "0             141              20.65381             -103.40134  \n",
       "1             141              20.65381             -103.40134  \n",
       "2             141              20.65381             -103.40134  \n",
       "3             141              20.65381             -103.40134  \n",
       "4             141              20.65381             -103.40134  "
      ]
     },
     "metadata": {},
     "output_type": "display_data"
    },
    {
     "data": {
      "text/plain": [
       "0          22.0\n",
       "1          36.0\n",
       "2           9.0\n",
       "3          13.0\n",
       "4          10.0\n",
       "           ... \n",
       "1167884     8.0\n",
       "1167885     8.0\n",
       "1167888     7.0\n",
       "1167889    13.0\n",
       "1167890     7.0\n",
       "Name: trip_duration_minutes, Length: 1146009, dtype: float64"
      ]
     },
     "metadata": {},
     "output_type": "display_data"
    }
   ],
   "source": [
    "#target\n",
    "# df[\"gender\"] = 1 if df[\"gender\"] == \"M\" else 0\n",
    "df['gender'] = df['gender'].replace(['M', 'F'], [1, 2])\n",
    "X = df.drop(\n",
    "    columns=[\n",
    "        \"trip_duration_minutes\",\n",
    "        \"trip_id\",\n",
    "        \"birthday\",\n",
    "        'start_trip', \n",
    "        'end_trip',\n",
    "        'trip_duration_hours',\n",
    "        'origin_name',\n",
    "        'origin_obcn',\n",
    "        'origin_location',\n",
    "        'origin_status',\n",
    "        'destination_name',\n",
    "        'destination_obcn',\n",
    "        'destination_location',\n",
    "        'destination_status'\n",
    "    ], \n",
    "    axis=1\n",
    ")\n",
    "y = df[\"trip_duration_minutes\"]\n",
    "\n",
    "display(X.head())\n",
    "display(y)"
   ]
  },
  {
   "cell_type": "code",
   "execution_count": 111,
   "id": "1f1664c0",
   "metadata": {},
   "outputs": [],
   "source": [
    "# Sequential Forward Selection(sfs)\n",
    "sfs = SFS(\n",
    "    LinearRegression(),\n",
    "    k_features=10,\n",
    "    forward=True,\n",
    "    floating=False,\n",
    "    scoring = 'r2',\n",
    "    cv = 0\n",
    ")"
   ]
  },
  {
   "cell_type": "code",
   "execution_count": 112,
   "id": "5ec7cc82",
   "metadata": {},
   "outputs": [
    {
     "data": {
      "text/html": [
       "<style>#sk-container-id-3 {color: black;background-color: white;}#sk-container-id-3 pre{padding: 0;}#sk-container-id-3 div.sk-toggleable {background-color: white;}#sk-container-id-3 label.sk-toggleable__label {cursor: pointer;display: block;width: 100%;margin-bottom: 0;padding: 0.3em;box-sizing: border-box;text-align: center;}#sk-container-id-3 label.sk-toggleable__label-arrow:before {content: \"▸\";float: left;margin-right: 0.25em;color: #696969;}#sk-container-id-3 label.sk-toggleable__label-arrow:hover:before {color: black;}#sk-container-id-3 div.sk-estimator:hover label.sk-toggleable__label-arrow:before {color: black;}#sk-container-id-3 div.sk-toggleable__content {max-height: 0;max-width: 0;overflow: hidden;text-align: left;background-color: #f0f8ff;}#sk-container-id-3 div.sk-toggleable__content pre {margin: 0.2em;color: black;border-radius: 0.25em;background-color: #f0f8ff;}#sk-container-id-3 input.sk-toggleable__control:checked~div.sk-toggleable__content {max-height: 200px;max-width: 100%;overflow: auto;}#sk-container-id-3 input.sk-toggleable__control:checked~label.sk-toggleable__label-arrow:before {content: \"▾\";}#sk-container-id-3 div.sk-estimator input.sk-toggleable__control:checked~label.sk-toggleable__label {background-color: #d4ebff;}#sk-container-id-3 div.sk-label input.sk-toggleable__control:checked~label.sk-toggleable__label {background-color: #d4ebff;}#sk-container-id-3 input.sk-hidden--visually {border: 0;clip: rect(1px 1px 1px 1px);clip: rect(1px, 1px, 1px, 1px);height: 1px;margin: -1px;overflow: hidden;padding: 0;position: absolute;width: 1px;}#sk-container-id-3 div.sk-estimator {font-family: monospace;background-color: #f0f8ff;border: 1px dotted black;border-radius: 0.25em;box-sizing: border-box;margin-bottom: 0.5em;}#sk-container-id-3 div.sk-estimator:hover {background-color: #d4ebff;}#sk-container-id-3 div.sk-parallel-item::after {content: \"\";width: 100%;border-bottom: 1px solid gray;flex-grow: 1;}#sk-container-id-3 div.sk-label:hover label.sk-toggleable__label {background-color: #d4ebff;}#sk-container-id-3 div.sk-serial::before {content: \"\";position: absolute;border-left: 1px solid gray;box-sizing: border-box;top: 0;bottom: 0;left: 50%;z-index: 0;}#sk-container-id-3 div.sk-serial {display: flex;flex-direction: column;align-items: center;background-color: white;padding-right: 0.2em;padding-left: 0.2em;position: relative;}#sk-container-id-3 div.sk-item {position: relative;z-index: 1;}#sk-container-id-3 div.sk-parallel {display: flex;align-items: stretch;justify-content: center;background-color: white;position: relative;}#sk-container-id-3 div.sk-item::before, #sk-container-id-3 div.sk-parallel-item::before {content: \"\";position: absolute;border-left: 1px solid gray;box-sizing: border-box;top: 0;bottom: 0;left: 50%;z-index: -1;}#sk-container-id-3 div.sk-parallel-item {display: flex;flex-direction: column;z-index: 1;position: relative;background-color: white;}#sk-container-id-3 div.sk-parallel-item:first-child::after {align-self: flex-end;width: 50%;}#sk-container-id-3 div.sk-parallel-item:last-child::after {align-self: flex-start;width: 50%;}#sk-container-id-3 div.sk-parallel-item:only-child::after {width: 0;}#sk-container-id-3 div.sk-dashed-wrapped {border: 1px dashed gray;margin: 0 0.4em 0.5em 0.4em;box-sizing: border-box;padding-bottom: 0.4em;background-color: white;}#sk-container-id-3 div.sk-label label {font-family: monospace;font-weight: bold;display: inline-block;line-height: 1.2em;}#sk-container-id-3 div.sk-label-container {text-align: center;}#sk-container-id-3 div.sk-container {/* jupyter's `normalize.less` sets `[hidden] { display: none; }` but bootstrap.min.css set `[hidden] { display: none !important; }` so we also need the `!important` here to be able to override the default hidden behavior on the sphinx rendered scikit-learn.org. See: https://github.com/scikit-learn/scikit-learn/issues/21755 */display: inline-block !important;position: relative;}#sk-container-id-3 div.sk-text-repr-fallback {display: none;}</style><div id=\"sk-container-id-3\" class=\"sk-top-container\"><div class=\"sk-text-repr-fallback\"><pre>SequentialFeatureSelector(cv=0, estimator=LinearRegression(),\n",
       "                          k_features=(10, 10), scoring=&#x27;r2&#x27;)</pre><b>In a Jupyter environment, please rerun this cell to show the HTML representation or trust the notebook. <br />On GitHub, the HTML representation is unable to render, please try loading this page with nbviewer.org.</b></div><div class=\"sk-container\" hidden><div class=\"sk-item sk-dashed-wrapped\"><div class=\"sk-label-container\"><div class=\"sk-label sk-toggleable\"><input class=\"sk-toggleable__control sk-hidden--visually\" id=\"sk-estimator-id-7\" type=\"checkbox\" ><label for=\"sk-estimator-id-7\" class=\"sk-toggleable__label sk-toggleable__label-arrow\">SequentialFeatureSelector</label><div class=\"sk-toggleable__content\"><pre>SequentialFeatureSelector(cv=0, estimator=LinearRegression(),\n",
       "                          k_features=(10, 10), scoring=&#x27;r2&#x27;)</pre></div></div></div><div class=\"sk-parallel\"><div class=\"sk-parallel-item\"><div class=\"sk-item\"><div class=\"sk-label-container\"><div class=\"sk-label sk-toggleable\"><input class=\"sk-toggleable__control sk-hidden--visually\" id=\"sk-estimator-id-8\" type=\"checkbox\" ><label for=\"sk-estimator-id-8\" class=\"sk-toggleable__label sk-toggleable__label-arrow\">estimator: LinearRegression</label><div class=\"sk-toggleable__content\"><pre>LinearRegression()</pre></div></div></div><div class=\"sk-serial\"><div class=\"sk-item\"><div class=\"sk-estimator sk-toggleable\"><input class=\"sk-toggleable__control sk-hidden--visually\" id=\"sk-estimator-id-9\" type=\"checkbox\" ><label for=\"sk-estimator-id-9\" class=\"sk-toggleable__label sk-toggleable__label-arrow\">LinearRegression</label><div class=\"sk-toggleable__content\"><pre>LinearRegression()</pre></div></div></div></div></div></div></div></div></div></div>"
      ],
      "text/plain": [
       "SequentialFeatureSelector(cv=0, estimator=LinearRegression(),\n",
       "                          k_features=(10, 10), scoring='r2')"
      ]
     },
     "execution_count": 112,
     "metadata": {},
     "output_type": "execute_result"
    }
   ],
   "source": [
    "sfs.fit(X, y)"
   ]
  },
  {
   "cell_type": "code",
   "execution_count": 113,
   "id": "de9985e2",
   "metadata": {},
   "outputs": [
    {
     "data": {
      "text/plain": [
       "('user_id',\n",
       " 'gender',\n",
       " 'age',\n",
       " 'year',\n",
       " 'origin_id',\n",
       " 'origin_latitude',\n",
       " 'origin_longitude',\n",
       " 'destination_id',\n",
       " 'destination_latitude',\n",
       " 'destination_longitude')"
      ]
     },
     "execution_count": 113,
     "metadata": {},
     "output_type": "execute_result"
    }
   ],
   "source": [
    "# final list of features\n",
    "sfs.k_feature_names_"
   ]
  },
  {
   "cell_type": "markdown",
   "id": "0636cab5",
   "metadata": {},
   "source": [
    "## Entrenamiento de modelo de regresión lineal"
   ]
  },
  {
   "cell_type": "code",
   "execution_count": 116,
   "id": "beaa85c7",
   "metadata": {},
   "outputs": [
    {
     "name": "stdout",
     "output_type": "stream",
     "text": [
      "[10.33141384 11.02660015 11.68563378 ...  9.64865839 11.24952665\n",
      " 11.15896754]\n"
     ]
    }
   ],
   "source": [
    "from sklearn.model_selection import train_test_split\n",
    "from sklearn.metrics import accuracy_score\n",
    "\n",
    "X = df[list(sfs.k_feature_names_)]\n",
    "\n",
    "X_train,X_test,y_train,y_test = train_test_split(X,y,test_size=0.2,random_state=2)\n",
    "from sklearn.linear_model import LinearRegression\n",
    "# crear el modelo\n",
    "lr = LinearRegression()\n",
    "# Ajustar el modelo con X_train y y_train\n",
    "lr.fit(X_train,y_train)\n",
    "# PRedecir con X_test\n",
    "predictions = lr.predict(X_test)\n",
    "\n",
    "print(predictions)"
   ]
  },
  {
   "cell_type": "markdown",
   "id": "516a2eee",
   "metadata": {},
   "source": [
    "## Métricas de validación del modelo"
   ]
  },
  {
   "cell_type": "code",
   "execution_count": 117,
   "id": "fa750d1e",
   "metadata": {},
   "outputs": [
    {
     "name": "stdout",
     "output_type": "stream",
     "text": [
      "MAE 5.369274355754961\n"
     ]
    }
   ],
   "source": [
    "from sklearn.metrics import mean_absolute_error\n",
    "print(\"MAE\",mean_absolute_error(y_test,y_pred))"
   ]
  },
  {
   "cell_type": "code",
   "execution_count": 118,
   "id": "ff039bee",
   "metadata": {},
   "outputs": [
    {
     "name": "stdout",
     "output_type": "stream",
     "text": [
      "MSE 47.50180098750773\n"
     ]
    }
   ],
   "source": [
    "from sklearn.metrics import mean_squared_error\n",
    "print(\"MSE\",mean_squared_error(y_test,y_pred))"
   ]
  },
  {
   "cell_type": "code",
   "execution_count": 119,
   "id": "5667a205",
   "metadata": {},
   "outputs": [
    {
     "name": "stdout",
     "output_type": "stream",
     "text": [
      "RMSE 6.892155032173009\n"
     ]
    }
   ],
   "source": [
    "print(\"RMSE\",np.sqrt(mean_squared_error(y_test,y_pred)))"
   ]
  },
  {
   "cell_type": "code",
   "execution_count": 120,
   "id": "6989fb68",
   "metadata": {},
   "outputs": [
    {
     "name": "stdout",
     "output_type": "stream",
     "text": [
      "R2 0.019339900491486595\n"
     ]
    }
   ],
   "source": [
    "from sklearn.metrics import r2_score\n",
    "r2 = r2_score(y_test,y_pred)\n",
    "print(\"R2\", r2)"
   ]
  },
  {
   "cell_type": "markdown",
   "id": "37175180",
   "metadata": {},
   "source": [
    "## Conclusiones\n",
    "\n",
    "Como podemos observar en la seleccion de características, hay varias columnas que pueden no ser importantes para el modelo de regresión lineal, para poder entender cual conjunto de características es mejor para el modelo tendríamos que evaluar varias combinaciones de características así como el número de ellas y evaluar el resultado de las métricas del conjunto de características entrenado."
   ]
  },
  {
   "cell_type": "code",
   "execution_count": null,
   "id": "46ff2507",
   "metadata": {},
   "outputs": [],
   "source": []
  }
 ],
 "metadata": {
  "kernelspec": {
   "display_name": "Python 3 (ipykernel)",
   "language": "python",
   "name": "python3"
  },
  "language_info": {
   "codemirror_mode": {
    "name": "ipython",
    "version": 3
   },
   "file_extension": ".py",
   "mimetype": "text/x-python",
   "name": "python",
   "nbconvert_exporter": "python",
   "pygments_lexer": "ipython3",
   "version": "3.10.10"
  }
 },
 "nbformat": 4,
 "nbformat_minor": 5
}
