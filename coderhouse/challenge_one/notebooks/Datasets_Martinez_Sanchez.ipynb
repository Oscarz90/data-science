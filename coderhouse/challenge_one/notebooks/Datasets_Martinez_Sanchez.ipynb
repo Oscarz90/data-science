{
 "cells": [
  {
   "cell_type": "markdown",
   "id": "820c74be",
   "metadata": {},
   "source": [
    "# Airbnb - Ciudad de Mexico (CDMX)\n",
    "\n",
    "Este data set es un conjunto de propiedades/viviendas registradas en airbnb que pertenecen a la ciudad de mexico, la capital de Mexico."
   ]
  },
  {
   "cell_type": "code",
   "execution_count": 20,
   "id": "c7972329",
   "metadata": {},
   "outputs": [
    {
     "name": "stdout",
     "output_type": "stream",
     "text": [
      "                                                name  \\\n",
      "0                                        Villa Dante   \n",
      "1                                  CONDESA HAUS  B&B   \n",
      "2               Great space in historical San Rafael   \n",
      "3                 Entire beautiful duplex in la Roma   \n",
      "4  Spacious Clean Quiet room (own bath) in la Con...   \n",
      "\n",
      "                                         description  \\\n",
      "0  Dentro de Villa un estudio de arte con futon, ...   \n",
      "1  A new concept of hosting in mexico through a b...   \n",
      "2  This great apartment is located in one of the ...   \n",
      "3  This beautiful apartment is centrally located,...   \n",
      "4  Located in La Condesa, one of the best neighbo...   \n",
      "\n",
      "                           host_location          property_type  \n",
      "0       Mexico City, Mexico City, Mexico           Entire villa  \n",
      "1  Mexico City, Distrito Federal, Mexico           Entire house  \n",
      "2       Mexico City, Mexico City, Mexico     Entire condominium  \n",
      "3                             Mexico, MX            Entire loft  \n",
      "4  Mexico City, Distrito Federal, Mexico  Private room in house  \n",
      "(20065, 74)\n"
     ]
    }
   ],
   "source": [
    "import pandas as pd\n",
    "df_airbnb = pd.read_csv('../datasets/cdmx_airbnb_dataset.csv')\n",
    "\n",
    "# solo un overview del contenido del data set\n",
    "print(df_airbnb[['name','description', 'host_location', 'property_type']].head())\n",
    "# dimensiones del dataset filas, columnas\n",
    "print(df_airbnb.shape)"
   ]
  },
  {
   "cell_type": "markdown",
   "id": "ec400ae8",
   "metadata": {},
   "source": [
    "El siguiente dataset fue elegido para analizar el costo de renta de propiedades en la capital de Mexico, actualmente existe un fenomeno en el alza de precios de renta de propiedades, esto se debe a la gran demanda que hay por vivienda en la ciudad de mexico debido a la inmigracion de personas nacionales y extranjeras.\n",
    "\n",
    "En el siguiente dataset encontramos varias columnas que son de interes para analizar por que ha ocurrido un alza en el precio de renta de las viviendas en airbnb, y asi mismo poder identificar las zonas con costos mas elevados de renta:\n",
    "\n"
   ]
  },
  {
   "cell_type": "code",
   "execution_count": 21,
   "id": "3f832b07",
   "metadata": {},
   "outputs": [
    {
     "name": "stdout",
     "output_type": "stream",
     "text": [
      "  host_neighbourhood          property_type  accommodates  bedrooms  \\\n",
      "0                NaN           Entire villa             2       1.0   \n",
      "1            Condesa           Entire house            14       5.0   \n",
      "2         San Rafael     Entire condominium             2       1.0   \n",
      "3         Roma Norte            Entire loft             2       1.0   \n",
      "4            Condesa  Private room in house             2       1.0   \n",
      "\n",
      "                                           amenities      price  \\\n",
      "0  [\"Pocket wifi\", \"Washer\", \"Bed linens\", \"Kitch...  $4,088.00   \n",
      "1  [\"TV\", \"Dedicated workspace\", \"Dryer\", \"Piano\"...  $7,293.00   \n",
      "2  [\"TV\", \"Dedicated workspace\", \"Bed linens\", \"S...    $600.00   \n",
      "3  [\"Essentials\", \"Elevator\", \"Cooking basics\", \"...  $1,487.00   \n",
      "4  [\"TV\", \"Dedicated workspace\", \"Dryer\", \"Luggag...  $1,239.00   \n",
      "\n",
      "   minimum_nights  review_scores_rating  \n",
      "0               1                   NaN  \n",
      "1               1                  91.0  \n",
      "2               4                  97.0  \n",
      "3              15                 100.0  \n",
      "4               2                  98.0  \n"
     ]
    }
   ],
   "source": [
    "print(df_airbnb[['host_neighbourhood','property_type', 'accommodates', 'bedrooms', 'amenities', 'price', 'minimum_nights', 'review_scores_rating']].head())"
   ]
  },
  {
   "cell_type": "markdown",
   "id": "de5a732a",
   "metadata": {},
   "source": [
    "La gentrificacion de la ciudad de mexico es ocasionada por el desplazamiento de los habitantes locales hacia otras zonas mas economicas por habitantes que pueden pagar mas por las mismas propiedades, en este caso renta.\n",
    "\n",
    "En este data set hay informacion de utilidad que nos puede dar indicios de cuales son las caracteristicas de una propiedad para justificar el valor de su renta, asi como las **alcaldias** mas caras y mas baratas de la cdmx, tambien podriamos analizar la correlacion que hay entre estas variables como puede ser el **numero de dormitorios**, de **camas**, el **minimo de noches** de estancia, el **tipo de propiedad**, **amenidades**, etc. y ver como se afectan unas con otras para determinar el valor de renta de dichas propiedades."
   ]
  },
  {
   "cell_type": "markdown",
   "id": "d41c2d1a",
   "metadata": {},
   "source": [
    "# Reastaurantes de comida rapida en Estados Unidos\n",
    "\n",
    "Este dataset incluye los restaurantes de comida rapida en Estados Unidos y como estan distribuidos en las principales ciudades de dicho pais."
   ]
  },
  {
   "cell_type": "code",
   "execution_count": 22,
   "id": "48570500",
   "metadata": {},
   "outputs": [
    {
     "name": "stdout",
     "output_type": "stream",
     "text": [
      "             name               address          city\n",
      "0  SONIC Drive In      800 N Canal Blvd     Thibodaux\n",
      "1  SONIC Drive In      800 N Canal Blvd     Thibodaux\n",
      "2       Taco Bell   206 Wears Valley Rd  Pigeon Forge\n",
      "3          Arby's          3652 Parkway  Pigeon Forge\n",
      "4  Steak 'n Shake  2118 Mt Zion Parkway        Morrow\n",
      "(10000, 16)\n"
     ]
    }
   ],
   "source": [
    "df_fast_food = pd.read_csv('../datasets/fast_food_restaurants_dataset.csv')\n",
    "\n",
    "# solo un overview del contenido del data set\n",
    "print(df_fast_food[['name','address', 'city']].head())\n",
    "# dimensiones del dataset filas, columnas\n",
    "print(df_fast_food.shape)"
   ]
  },
  {
   "cell_type": "markdown",
   "id": "6fe3c50b",
   "metadata": {},
   "source": [
    "Este data set fue elegido por que actualmente trabajo en el sector de ejecucion de operaciones para los mas grandes cadenas/franquicias de restaurantes de comida rapida de Estados Unidos, por lo tanto, me interesa analizar este conjunto de datos para entender como esta distribuidos las cadenas de restaurantes en USA.\n",
    "\n",
    "En este dataset hay diferentes columnas que nos pueden indicar como estan distribuidas las cadenas de restaurantes en USA (**latitud**, **longitud**), asi como tambien contabilizar las **ubicaciones** de los restaurantes por **nombre** de franquicia, y de esta manera ver en que **provincias** estan concentrados clientes potenciales para la empresa (actualmente ya algunos de ellos son clientes), asi como para entender las **categorias** de las franquicias y como estas estan relacionadas con su distribucion en las diferentes ciudades de USA."
   ]
  },
  {
   "cell_type": "code",
   "execution_count": 23,
   "id": "02f422f0",
   "metadata": {},
   "outputs": [
    {
     "name": "stdout",
     "output_type": "stream",
     "text": [
      "                name postalCode                                    categories  \\\n",
      "0     SONIC Drive In      70301  American Restaurant and Fast Food Restaurant   \n",
      "1     SONIC Drive In      70301                         Fast Food Restaurants   \n",
      "2          Taco Bell      37863                          Fast Food Restaurant   \n",
      "3             Arby's      37863                                     Fast Food   \n",
      "4     Steak 'n Shake      30260                          Fast Food Restaurant   \n",
      "...              ...        ...                                           ...   \n",
      "9995       Pizza Hut      27106                         Fast Food Restaurants   \n",
      "9996       Pizza Hut      27107                         Fast Food Restaurants   \n",
      "9997       Pizza Hut      27284                         Fast Food Restaurants   \n",
      "9998       Pizza Hut      27893                         Fast Food Restaurants   \n",
      "9999       Pizza Hut      28337                         Fast Food Restaurants   \n",
      "\n",
      "       latitude  longitude province           city  \n",
      "0     29.814697 -90.814742       LA      Thibodaux  \n",
      "1     29.814697 -90.814742       LA      Thibodaux  \n",
      "2     35.803788 -83.580553       TN   Pigeon Forge  \n",
      "3     35.782339 -83.551408       TN   Pigeon Forge  \n",
      "4     33.562738 -84.321143       GA         Morrow  \n",
      "...         ...        ...      ...            ...  \n",
      "9995  36.117563 -80.316553       NC  Winston-Salem  \n",
      "9996  36.077718 -80.176748       NC  Winston-Salem  \n",
      "9997  36.111015 -80.089165       NC   Kernersville  \n",
      "9998  35.719981 -77.945795       NC         Wilson  \n",
      "9999  34.632778 -78.624615       NC  Elizabethtown  \n",
      "\n",
      "[10000 rows x 7 columns]\n"
     ]
    }
   ],
   "source": [
    "print(df_fast_food[['name', 'postalCode', 'categories', 'latitude', 'longitude', 'province', 'city']])"
   ]
  },
  {
   "cell_type": "markdown",
   "id": "ac94fafa",
   "metadata": {},
   "source": [
    "# MiBici - Bicicletas como transporte sustentable en la AMG (Area Metropolitana de Guadalajara, Mexico)\n",
    "\n",
    "Este dataset incluye los restaurantes de comida rapida en Estados Unidos y como estan distribuidos en las principales ciudades de dicho pais."
   ]
  },
  {
   "cell_type": "code",
   "execution_count": 57,
   "id": "16dbd2d1",
   "metadata": {},
   "outputs": [
    {
     "name": "stdout",
     "output_type": "stream",
     "text": [
      "   Usuario_Id Genero  Anio_de_nacimiento                        origen_name  \\\n",
      "0       12551      M              1987.0  (GDL-078) C. Comercio / C. La Paz   \n",
      "1       12551      M              1987.0  (GDL-078) C. Comercio / C. La Paz   \n",
      "2         371      F              1989.0  (GDL-078) C. Comercio / C. La Paz   \n",
      "3     1642116      M              1979.0  (GDL-078) C. Comercio / C. La Paz   \n",
      "4         371      F              1989.0  (GDL-078) C. Comercio / C. La Paz   \n",
      "\n",
      "                                    destino_name  \n",
      "0  (GDL-037) C.Juan N. Cumplido /C. Independenci  \n",
      "1  (GDL-037) C.Juan N. Cumplido /C. Independenci  \n",
      "2  (GDL-037) C.Juan N. Cumplido /C. Independenci  \n",
      "3  (GDL-037) C.Juan N. Cumplido /C. Independenci  \n",
      "4  (GDL-037) C.Juan N. Cumplido /C. Independenci  \n",
      "(402460, 20)\n"
     ]
    }
   ],
   "source": [
    "df_mibici = pd.read_csv('../datasets/mibici_trips_march_2023.csv')\n",
    "\n",
    "# solo un overview del contenido del data set\n",
    "print(df_mibici[['Usuario_Id','Genero', 'Anio_de_nacimiento', 'origen_name', 'destino_name']].head())\n",
    "# dimensiones del dataset filas, columnas\n",
    "print(df_mibici.shape)"
   ]
  },
  {
   "cell_type": "markdown",
   "id": "d37beb95",
   "metadata": {},
   "source": [
    "Este dataset fue elegido para analizar el medio de transporte de la bicicleta como medio sustentable en una de las ciudades mas grandes del pais, **AMG** (Area Metropolitana de Guadalajara), que esta compuesta realmente por un conjunto de ciudades que forman el Area Metropolitana del Estado de Guadalajara en Mexico. Actualmente la **AMG** es considerada una de las ciudades con mayor crecimiento gracias a la inversion e inovacion de empresas de Sillicon Valley, esto ha repercutido en la forma en que las personas buscan hacer de la ciudad una ciudad mas verde.\n",
    "\n",
    "En este dataset podemos encontrar diferentes variables para identificar las **rutas** mas usadas por las personas para transportarse en bici, y de esta manera identificar en que estaciones es necesario agregar o quitar mas cantidad de bicis, tambien podriamos entender en que rango de **edades** estan los usuarios, asi como tambien el genero de los mismos, addicional podriamos entender cual es el **tiempo** promedio que un usuario utiliza el transporte, asi como cuales **dias** son los **mas demandados** y en que **horarios**, con todas estas variables podriamos hacer un pronostico del uso del transporte segun el dia y horario, asi como el tiempo promedio que los usuarios utilizan las bicicletas."
   ]
  },
  {
   "cell_type": "code",
   "execution_count": 59,
   "id": "f333832f",
   "metadata": {},
   "outputs": [
    {
     "name": "stdout",
     "output_type": "stream",
     "text": [
      "        Usuario_Id Genero  Anio_de_nacimiento Inicio_del_viaje  \\\n",
      "0            12551      M              1987.0    01/03/23 0:00   \n",
      "1            12551      M              1987.0    07/03/23 7:40   \n",
      "2              371      F              1989.0    08/03/23 8:55   \n",
      "3          1642116      M              1979.0   09/03/23 12:49   \n",
      "4              371      F              1989.0    10/03/23 8:48   \n",
      "...            ...    ...                 ...              ...   \n",
      "402455      757545      M              1995.0    25/03/23 6:03   \n",
      "402456      251711      M              1993.0    25/03/23 9:55   \n",
      "402457      560230      M              2000.0   31/03/23 16:28   \n",
      "402458      251711      M              1993.0   31/03/23 17:56   \n",
      "402459      306036      M              1977.0   05/03/23 18:14   \n",
      "\n",
      "         Fin_del_viaje                              origen_name  \\\n",
      "0        01/03/23 0:11        (GDL-078) C. Comercio / C. La Paz   \n",
      "1        07/03/23 7:51        (GDL-078) C. Comercio / C. La Paz   \n",
      "2        08/03/23 9:05        (GDL-078) C. Comercio / C. La Paz   \n",
      "3       09/03/23 13:04        (GDL-078) C. Comercio / C. La Paz   \n",
      "4        10/03/23 8:58        (GDL-078) C. Comercio / C. La Paz   \n",
      "...                ...                                      ...   \n",
      "402455   25/03/23 6:08  (TLQ-008) C. Independencia / C. Allende   \n",
      "402456  25/03/23 10:00  (TLQ-008) C. Independencia / C. Allende   \n",
      "402457  31/03/23 16:34  (TLQ-008) C. Independencia / C. Allende   \n",
      "402458  31/03/23 17:59  (TLQ-008) C. Independencia / C. Allende   \n",
      "402459  05/03/23 18:21     (GDL-170)  C. Relojeros/ C. Chamizal   \n",
      "\n",
      "                                         destino_name  \n",
      "0       (GDL-037) C.Juan N. Cumplido /C. Independenci  \n",
      "1       (GDL-037) C.Juan N. Cumplido /C. Independenci  \n",
      "2       (GDL-037) C.Juan N. Cumplido /C. Independenci  \n",
      "3       (GDL-037) C.Juan N. Cumplido /C. Independenci  \n",
      "4       (GDL-037) C.Juan N. Cumplido /C. Independenci  \n",
      "...                                               ...  \n",
      "402455       (TLQ-012) C. Paseo Don Bosco / C. Tonal�  \n",
      "402456       (TLQ-012) C. Paseo Don Bosco / C. Tonal�  \n",
      "402457       (TLQ-012) C. Paseo Don Bosco / C. Tonal�  \n",
      "402458       (TLQ-012) C. Paseo Don Bosco / C. Tonal�  \n",
      "402459       (TLQ-012) C. Paseo Don Bosco / C. Tonal�  \n",
      "\n",
      "[402460 rows x 7 columns]\n"
     ]
    }
   ],
   "source": [
    "print(df_mibici[['Usuario_Id', 'Genero', 'Anio_de_nacimiento', 'Inicio_del_viaje', 'Fin_del_viaje','origen_name', 'destino_name']])"
   ]
  },
  {
   "cell_type": "code",
   "execution_count": null,
   "id": "ef430368",
   "metadata": {},
   "outputs": [],
   "source": []
  }
 ],
 "metadata": {
  "kernelspec": {
   "display_name": "Python 3 (ipykernel)",
   "language": "python",
   "name": "python3"
  },
  "language_info": {
   "codemirror_mode": {
    "name": "ipython",
    "version": 3
   },
   "file_extension": ".py",
   "mimetype": "text/x-python",
   "name": "python",
   "nbconvert_exporter": "python",
   "pygments_lexer": "ipython3",
   "version": "3.10.10"
  }
 },
 "nbformat": 4,
 "nbformat_minor": 5
}
