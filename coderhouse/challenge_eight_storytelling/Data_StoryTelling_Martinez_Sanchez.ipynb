{
 "cells": [
  {
   "cell_type": "code",
   "execution_count": 262,
   "id": "d3d4d005",
   "metadata": {},
   "outputs": [
    {
     "name": "stdout",
     "output_type": "stream",
     "text": [
      "Requirement already satisfied: folium in /Users/oscar/miniconda3/lib/python3.10/site-packages (0.14.0)\n",
      "Requirement already satisfied: numpy in /Users/oscar/miniconda3/lib/python3.10/site-packages (from folium) (1.24.3)\n",
      "Requirement already satisfied: requests in /Users/oscar/miniconda3/lib/python3.10/site-packages (from folium) (2.31.0)\n",
      "Requirement already satisfied: jinja2>=2.9 in /Users/oscar/miniconda3/lib/python3.10/site-packages (from folium) (3.1.2)\n",
      "Requirement already satisfied: branca>=0.6.0 in /Users/oscar/miniconda3/lib/python3.10/site-packages (from folium) (0.6.0)\n",
      "Requirement already satisfied: MarkupSafe>=2.0 in /Users/oscar/miniconda3/lib/python3.10/site-packages (from jinja2>=2.9->folium) (2.1.1)\n",
      "Requirement already satisfied: charset-normalizer<4,>=2 in /Users/oscar/miniconda3/lib/python3.10/site-packages (from requests->folium) (2.0.4)\n",
      "Requirement already satisfied: idna<4,>=2.5 in /Users/oscar/miniconda3/lib/python3.10/site-packages (from requests->folium) (3.4)\n",
      "Requirement already satisfied: urllib3<3,>=1.21.1 in /Users/oscar/miniconda3/lib/python3.10/site-packages (from requests->folium) (1.26.16)\n",
      "Requirement already satisfied: certifi>=2017.4.17 in /Users/oscar/miniconda3/lib/python3.10/site-packages (from requests->folium) (2023.7.22)\n",
      "Requirement already satisfied: plotly in /Users/oscar/miniconda3/lib/python3.10/site-packages (5.16.1)\n",
      "Requirement already satisfied: tenacity>=6.2.0 in /Users/oscar/miniconda3/lib/python3.10/site-packages (from plotly) (8.2.3)\n",
      "Requirement already satisfied: packaging in /Users/oscar/miniconda3/lib/python3.10/site-packages (from plotly) (23.1)\n",
      "Requirement already satisfied: kaleido in /Users/oscar/miniconda3/lib/python3.10/site-packages (0.2.1)\n"
     ]
    }
   ],
   "source": [
    "!pip install folium\n",
    "!pip install plotly\n",
    "!pip install kaleido"
   ]
  },
  {
   "cell_type": "code",
   "execution_count": 263,
   "id": "e58cd67a",
   "metadata": {},
   "outputs": [
    {
     "data": {
      "text/html": [
       "        <script type=\"text/javascript\">\n",
       "        window.PlotlyConfig = {MathJaxConfig: 'local'};\n",
       "        if (window.MathJax && window.MathJax.Hub && window.MathJax.Hub.Config) {window.MathJax.Hub.Config({SVG: {font: \"STIX-Web\"}});}\n",
       "        if (typeof require !== 'undefined') {\n",
       "        require.undef(\"plotly\");\n",
       "        requirejs.config({\n",
       "            paths: {\n",
       "                'plotly': ['https://cdn.plot.ly/plotly-2.25.2.min']\n",
       "            }\n",
       "        });\n",
       "        require(['plotly'], function(Plotly) {\n",
       "            window._Plotly = Plotly;\n",
       "        });\n",
       "        }\n",
       "        </script>\n",
       "        "
      ]
     },
     "metadata": {},
     "output_type": "display_data"
    }
   ],
   "source": [
    "# declaration of required functions, libs, enums, constants, etc..\n",
    "from pandas import DataFrame\n",
    "from typing import List\n",
    "from io import StringIO\n",
    "from enum import Enum\n",
    "from pandas.api.types import CategoricalDtype\n",
    "import pandas as pd\n",
    "import seaborn as sns\n",
    "import requests\n",
    "import matplotlib.pyplot as plt\n",
    "from matplotlib.ticker import NullFormatter\n",
    "import folium\n",
    "from folium.plugins import HeatMap\n",
    "import plotly.express as px\n",
    "from plotly.offline import download_plotlyjs, init_notebook_mode,  iplot\n",
    "import plotly.io as pio\n",
    "\n",
    "pio.renderers.default = 'notebook'\n",
    "init_notebook_mode(connected=True)\n",
    "\n",
    "headers = {\n",
    "    'User-Agent': 'Mozilla/5.0 (Macintosh; Intel Mac OS X 10.12; rv:55.0) Gecko/20100101 Firefox/55.0',\n",
    "}\n",
    "url_base = 'https://www.mibici.net/site/assets/files/'\n",
    "datasets_to_download = [\n",
    "    '3292/datos_abiertos_2021_05.csv',\n",
    "    '21842/datos_abiertos_2022_05.csv',\n",
    "    '46759/datos_abiertos_2023_05.csv',\n",
    "    '4572/datos_abiertos_2021_06.csv',\n",
    "    '23473/datos_abiertos_2022_06.csv',\n",
    "    '48116/datos_abiertos_2023_06.csv',\n",
    "    '5728/datos_abiertos_2021_07.csv',\n",
    "    '25235/datos_abiertos_2022_07.csv',\n",
    "    '49448/datos_abiertos_2023_07.csv'\n",
    "]\n",
    "age_bins = pd.IntervalIndex.from_tuples([(i, i+10) for i in range(0, 100,10)])\n",
    "\n",
    "hour_day_bins = pd.IntervalIndex.from_tuples([(i, i+1) for i in range(0, 23,1)])\n",
    "    \n",
    "class DataSethMonth(Enum):\n",
    "    MAY = 0\n",
    "    JUNE = 1\n",
    "    JULY = 2\n",
    "    \n",
    "def rename_columns(df: DataFrame) -> DataFrame:\n",
    "    temp_df = df.copy()\n",
    "    existing_columns = ['Viaje_Id', 'Usuario_Id', 'Genero', 'Año_de_nacimiento', 'Inicio_del_viaje', 'Fin_del_viaje', 'Origen_Id', 'Destino_Id']\n",
    "    new_columns = ['trip_id', 'user_id', 'gender', 'birthday', 'start_trip', 'end_trip', 'origin_id', 'destination_id']\n",
    "    \n",
    "    for idx, new_column in enumerate(new_columns):\n",
    "        temp_df[new_column] = temp_df[existing_columns[idx]]\n",
    "        del temp_df[existing_columns[idx]]\n",
    "    \n",
    "    return temp_df\n",
    "\n",
    "def add_new_columns(df: DataFrame) -> DataFrame:\n",
    "    from datetime import datetime, date\n",
    "    \n",
    "    temp_df = df.copy()\n",
    "    now = datetime.now()\n",
    "    current_year = now.year\n",
    "\n",
    "    # calculate user's age and add it to dataframe\n",
    "    temp_df[\"age\"] = current_year - temp_df[\"birthday\"]\n",
    "    temp_df['age_range'] = pd.cut(temp_df['age'], bins=age_bins)\n",
    "    \n",
    "    # calculate trip duration\n",
    "    temp_df['start_trip_date'] = pd.to_datetime(temp_df['start_trip'])\n",
    "    temp_df['start_trip_hour'] = temp_df.start_trip_date.dt.hour\n",
    "    temp_df['start_trip_hour_range'] = pd.cut(temp_df['start_trip_hour'], bins=hour_day_bins)\n",
    "    temp_df['start_trip_day_name'] = temp_df.start_trip_date.dt.day_name()\n",
    "    temp_df['start_trip_day_number'] = temp_df.start_trip_date.dt.dayofweek\n",
    "    temp_df['end_strip_date'] =  pd.to_datetime(temp_df['end_trip'])\n",
    "    \n",
    "    temp_df[\"trip_duration_hours\"] = (temp_df[\"end_strip_date\"] - temp_df['start_trip_date']) / pd.Timedelta(1, 'h')\n",
    "    temp_df[\"trip_duration_hours\"] = temp_df[\"trip_duration_hours\"].round(2)\n",
    "    temp_df[\"trip_duration_minutes\"] = (temp_df[\"end_strip_date\"] - temp_df['start_trip_date']) / pd.Timedelta(1, 'm')\n",
    "    temp_df[\"year\"] = temp_df.start_trip_date.dt.year\n",
    "    \n",
    "    del temp_df['start_trip_date']\n",
    "    del temp_df['end_strip_date']\n",
    "    \n",
    "    return temp_df\n",
    "\n",
    "def reorder_columns(df: DataFrame) -> DataFrame:\n",
    "    temp_df = df.copy()\n",
    "    columns_order = [\n",
    "        'trip_id', \n",
    "        'user_id', \n",
    "        'gender', \n",
    "        'birthday', \n",
    "        'age',\n",
    "        'age_range',\n",
    "        'start_trip', \n",
    "        'start_trip_hour',\n",
    "        'start_trip_hour_range',\n",
    "        'start_trip_day_name',\n",
    "        'start_trip_day_number',\n",
    "        'end_trip',\n",
    "        'trip_duration_minutes',\n",
    "        'trip_duration_hours',\n",
    "        'year',\n",
    "        'origin_id',\n",
    "        'origin_name',\n",
    "        'origin_obcn',\n",
    "        'origin_location',\n",
    "        'origin_latitude',\n",
    "        'origin_longitude',\n",
    "        'origin_status',\n",
    "        'destination_id',\n",
    "        'destination_name',\n",
    "        'destination_obcn',\n",
    "        'destination_location',\n",
    "        'destination_latitude',\n",
    "        'destination_longitude',\n",
    "        'destination_status'\n",
    "    ]\n",
    "    \n",
    "    return temp_df.reindex(columns=columns_order)\n",
    "\n",
    "def add_origin_destination_nomenclature(df: DataFrame, nomenclature: DataFrame):\n",
    "    temp_df = df.copy()\n",
    "    \n",
    "    for left_on in ['origin', 'destination']:    \n",
    "        temp_df = temp_df.merge(nomenclature, left_on=f\"{left_on}_id\", right_on='id', suffixes=(None, f\"_{left_on}\"))\n",
    "\n",
    "        temp_df[f\"{left_on}_name\"] = temp_df['name']\n",
    "        temp_df[f\"{left_on}_obcn\"] = temp_df['obcn']\n",
    "        temp_df[f\"{left_on}_location\"] = temp_df['location']\n",
    "        temp_df[f\"{left_on}_latitude\"] = temp_df['latitude']\n",
    "        temp_df[f\"{left_on}_longitude\"] = temp_df['longitude']\n",
    "        temp_df[f\"{left_on}_status\"] = temp_df['status']\n",
    "\n",
    "\n",
    "        del temp_df['id']\n",
    "        del temp_df['name']\n",
    "        del temp_df['obcn']\n",
    "        del temp_df['location']\n",
    "        del temp_df['latitude']\n",
    "        del temp_df['longitude']\n",
    "        del temp_df['status']\n",
    "\n",
    "    return temp_df\n",
    "\n",
    "def formatter(x, pos):\n",
    "    return str(round(x / 1e6, 1)) + \" million\""
   ]
  },
  {
   "cell_type": "code",
   "execution_count": 218,
   "id": "84016ee1",
   "metadata": {},
   "outputs": [],
   "source": [
    "raw_dataframes: List[DataFrame] = []\n",
    "\n",
    "# making requests to get raw datasets from MiBici endpoints\n",
    "for dataset_url in datasets_to_download:\n",
    "    response = requests.get(f\"{url_base}{dataset_url}\", headers=headers)\n",
    "    data = StringIO(response.text)\n",
    "    temp_df = pd.read_csv(data)\n",
    "    raw_dataframes.append(temp_df)"
   ]
  },
  {
   "cell_type": "code",
   "execution_count": 219,
   "id": "f548964b",
   "metadata": {},
   "outputs": [
    {
     "name": "stdout",
     "output_type": "stream",
     "text": [
      "<Response [200]>\n"
     ]
    }
   ],
   "source": [
    "# getting station's datasets\n",
    "stations_url = '1118/nomenclatura_2023_08-1.csv'\n",
    "response = requests.get(f\"{url_base}{stations_url}\", headers=headers)\n",
    "print(response)\n",
    "data = StringIO(response.text)\n",
    "station_df = pd.read_csv(data)"
   ]
  },
  {
   "cell_type": "code",
   "execution_count": 233,
   "id": "f39fbfda",
   "metadata": {},
   "outputs": [],
   "source": [
    "# processing raw datasets\n",
    "# fix for birthday column within all datasets\n",
    "for raw_dataframe in raw_dataframes:\n",
    "    if \"A}äe_nacimiento\" in raw_dataframe:\n",
    "        raw_dataframe['Año_de_nacimiento'] = raw_dataframe['A}äe_nacimiento']\n",
    "        del raw_dataframe['A}äe_nacimiento']\n",
    "\n",
    "    if \"AÃ±o_de_nacimiento\" in raw_dataframe:\n",
    "        raw_dataframe['Año_de_nacimiento'] = raw_dataframe['AÃ±o_de_nacimiento']\n",
    "        del raw_dataframe['AÃ±o_de_nacimiento']\n",
    "        \n",
    "# joining dataframes\n",
    "raw_mibici_df = pd.concat(raw_dataframes.copy())\n",
    "\n",
    "# removing emtpy values\n",
    "mibici_df = mibici_df.dropna()\n",
    "# structuring and enriching data\n",
    "mibici_df = rename_columns(raw_mibici_df)\n",
    "mibici_df = add_new_columns(mibici_df)\n",
    "mibici_df = reorder_columns(mibici_df)\n",
    "\n",
    "# add origin-destination data\n",
    "mibici_df = add_origin_destination_nomenclature(mibici_df, nomenclature=station_df)\n",
    "\n",
    "# calculating upper and lower limit to avoid outliers for age\n",
    "upper_limit_age = mibici_df['age'].mean() + 2* mibici_df['age'].std() # Right from the mean\n",
    "lower_limit_age = mibici_df['age'].mean() - 2* mibici_df['age'].std() # Left from the \n",
    "\n",
    "# calculating upper and lower limit to avoid outliers for trip duration\n",
    "upper_limit_trip_duration = mibici_df['trip_duration_hours'].mean() + 2* mibici_df['trip_duration_hours'].std() # Right from the mean\n",
    "lower_limit_trip_duration = mibici_df['trip_duration_hours'].mean() - 2* mibici_df['trip_duration_hours'].std() # Left from the mean\n",
    "\n",
    "# removing outliers\n",
    "mibici_df = mibici_df[(mibici_df['age']>lower_limit_age) & (mibici_df['age']<upper_limit_age)].copy()\n",
    "mibici_df = mibici_df[(mibici_df['trip_duration_hours']>lower_limit_trip_duration) & (mibici_df['trip_duration_hours']<upper_limit_trip_duration)].copy()"
   ]
  },
  {
   "cell_type": "markdown",
   "id": "33bcf02e",
   "metadata": {},
   "source": [
    "## Análisis de dataset de MiBici de Guadalajara, México\n",
    "\n",
    "### Abstract\n",
    "\n",
    "El siguiente dataset contiene información de los viajes del sistema de Bicicletas Públicas MiBici del Área Metropolitana de Guadalajara del mes de mayo del 2020 al 2023, el programa actúa como complemento o extensión a otros sitemas de transporte de la ciudad, el sistema actualmente cuenta con 3,200 bicicletas y 300 estaciones en los municipios de Guadalajara, Zapopan y Tlaquepaque.\n",
    "\n",
    "Desde que la plataforma inicio se ha visto un incremento consistente en el número de usuarios de la plataforma, en cuanto a los usuarios que se han mantenido activos también es consistente el crecimiento. \n",
    "\n",
    "El análisis de los viajes, tanto su destino como origen, nos pueden dar varios indicadores de que estaciones son las más concurridas, o los destinos de mayor concurrencia de los viajes, esto nos puede dar una idea de en que horarios y hacia que zonas los usuarios se mueven en el día a día y con este análisis poder identificar en que estaciones se requiere mas bicis y mantenimiento al sistema de conexión.\n",
    "\n",
    "El sistema de conexión de las estaciones han sido reportados diferentes fallos, pero principalmente fallos relacionados con el inicio/finalización de los viajes, hay diferentes factores que influyen en el fallo, desde el hardware de wifi en las estaciones y también la demanda en horas picas en dichas estaciones.\n",
    "\n",
    "Estas fallas en el sistema de conexión nos llevan a tener viajes sin finalización, o viajes finalizados despues de varios dias de su inicio, así como otras inconsistencias en los datos recabados por el sistema, además de ofrecer una mala experiencia para el usuario.\n",
    "\n",
    "En el dataset encontramos información acerca de los usuarios y sus viajes, así como datos extras relacioandos con las estaciones de origen y destino de los viajes, así como su ubicación y a la zona a la que pertenecen."
   ]
  },
  {
   "cell_type": "markdown",
   "id": "270afa9e",
   "metadata": {},
   "source": [
    "### Preguntas e Hipótesis\n",
    "\n",
    "Algunas preguntas de interes que han surgido apartir del análisis del dataset son:\n",
    "\n",
    "* ¿Podríamos identificar los días y horarios con mayor afluencia de usuarios iniciando/finalizando viajes? Esto nos podría dar un mejor entendimiento de los horarios con mayor carga para el sistema de conexión de las estaciones, así como ver en que horario programar los mantenimientos preventivos de cada estación\n",
    "* ¿Qué factores están impulsando la adopción del uso de MiBici entre hombres y mujeres?\n",
    "* ¿Podemos pronosticar que estaciones origen/destino son y serán las más concurridas en los próximos meses?, esto nos podría ayudar a dar mantenimiento preventivo a los sitemas de conexión en dichas estaciones\n",
    "* ¿Es la edad y género un factor en el tiempo de duración de los viajes de los usuarios?\n",
    "* ¿Es el género un factor sobre la afluencia de usuarios en horarios nocturnos?, la inseguridad en general y el acoso/inseguridad en específico hacia el género femenino podrían estar afectando la adopción del uso de MiBici"
   ]
  },
  {
   "cell_type": "markdown",
   "id": "28df4f3c",
   "metadata": {},
   "source": [
    "## Definición de objetivo\n",
    "\n",
    "¿Cómo podemos optimizar el mantenimiento para el sistema de conexión de las estaciones sin afectar la disponibilidad del servicio?\n",
    "¿Cómo podemos disminuir la brecha de la adopción del servicio entre los usuarios de género masculino y femenino?"
   ]
  },
  {
   "cell_type": "markdown",
   "id": "77b50fe9",
   "metadata": {},
   "source": [
    "## Contexto comercial\n",
    "\n",
    "El área metropolitana de guadalajara brinda servicio a miles de usuarios quiénes usan la bicicleta como principal medio de transporte en su día a día, el servicio a experimentado una creciente demanda desde que fue implementado en 2014 gracias a la suma de esfuerzos de colectivos ciclistas y dependencias gubernamentales que han promovido el uso de la bicicleta en la metrópoli. Actualmente el programa cuenta con 3200 bicicletas y 300 estaciones en los municipios de Guadalajara, Zapopan y Tlaquepaque.\n",
    "\n",
    "La Agencia Metropolitana de Servicios de Infraestructura para la Movilidad (AMIM), es el organimos público descentralizado intermunicipial que se encarga de supervisar la red de semáforos, radares de velocidad y el sistema de bicicleta pública \"MiBici\", PIMA es el programa de infraestructura para la Movilidad Activa que concentra la operación de \"MiBici\".\n",
    "\n",
    "Por otra parte las mejores al sistema continuán, aun así, se han recibido reporte por parte de los usuarios que han tenido problemas con servicio, al iniciar un viaje, finalizar el viaje, etc.. Además de que se ve afectada la disponibilidad de las bicicletas cuando se les da mantenimiento."
   ]
  },
  {
   "cell_type": "markdown",
   "id": "dd0dc4fe",
   "metadata": {},
   "source": [
    "### Días mas concurridos por los usuarios de MiBici\n",
    "\n",
    "A continuación haremos un análisis de los días mas concurridos por los usuarios de MiBici en los últimos 3 años"
   ]
  },
  {
   "cell_type": "code",
   "execution_count": 221,
   "id": "30990d4e",
   "metadata": {},
   "outputs": [
    {
     "data": {
      "text/plain": [
       "Text(0, 0.5, 'Viajes por día')"
      ]
     },
     "execution_count": 221,
     "metadata": {},
     "output_type": "execute_result"
    },
    {
     "data": {
      "image/png": "[encoded data removed]",
      "text/plain": [
       "<Figure size 1500x800 with 1 Axes>"
      ]
     },
     "metadata": {},
     "output_type": "display_data"
    }
   ],
   "source": [
    "# visualization of trips by day\n",
    "trips_by_year_day = mibici_df.groupby(by=['year', 'start_trip_day_name'], as_index=False).size()\n",
    "\n",
    "days = ['Sunday', 'Monday', 'Tuesday', 'Wednesday', 'Thursday', 'Friday', 'Saturday']\n",
    "day_name = CategoricalDtype(categories=days, ordered=True)\n",
    "trips_by_year_day['day'] = trips_by_year_day['start_trip_day_name'].astype(day_name)\n",
    "\n",
    "# creating graph\n",
    "fig, ax = plt.subplots(figsize=(15,8))\n",
    "ax = sns.lineplot(data=trips_by_year_day, x='day', y=\"size\", hue=\"year\", ax=ax)\n",
    "ax.set_xlabel('Día de la semana')\n",
    "ax.set_ylabel('Viajes por día')"
   ]
  },
  {
   "cell_type": "markdown",
   "id": "20419525",
   "metadata": {},
   "source": [
    "### Distribución de viajes en un lapso de 24 hrs\n",
    "\n",
    "En el siguiente gráfico podemos observar en que horarios se realizan la mayoría de viajes en bicicleta por parte de los usuarios, así mismo separados por día de la semana, ya que es diferente dependiendo del día de la semana"
   ]
  },
  {
   "cell_type": "code",
   "execution_count": 265,
   "id": "302c8ffe",
   "metadata": {
    "scrolled": false
   },
   "outputs": [
    {
     "data": {
      "application/vnd.plotly.v1+json": {
       "config": {
        "linkText": "Export to plot.ly",
        "plotlyServerURL": "https://plot.ly",
        "showLink": false
       },
       "data": [
        {
         "hovertemplate": "Día del viaje=Friday<br>Hora de inicio del viaje (formato 24 hrs)=%{x}<br>Número de viajes=%{y}<extra></extra>",
         "legendgroup": "Friday",
         "line": {
          "color": "#636efa",
          "dash": "solid"
         },
         "marker": {
          "symbol": "circle"
         },
         "mode": "lines",
         "name": "Friday",
         "orientation": "v",
         "showlegend": true,
         "type": "scatter",
         "x": [
          0,
          1,
          5,
          6,
          7,
          8,
          9,
          10,
          11,
          12,
          13,
          14,
          15,
          16,
          17,
          18,
          19,
          20,
          21,
          22,
          23
         ],
         "xaxis": "x",
         "y": [
          2938,
          340,
          1894,
          10223,
          22970,
          36165,
          28225,
          20598,
          19150,
          19586,
          23467,
          27162,
          30059,
          27713,
          31385,
          41617,
          35029,
          26343,
          19574,
          11802,
          6620
         ],
         "yaxis": "y"
        },
        {
         "hovertemplate": "Día del viaje=Monday<br>Hora de inicio del viaje (formato 24 hrs)=%{x}<br>Número de viajes=%{y}<extra></extra>",
         "legendgroup": "Monday",
         "line": {
          "color": "#EF553B",
          "dash": "solid"
         },
         "marker": {
          "symbol": "circle"
         },
         "mode": "lines",
         "name": "Monday",
         "orientation": "v",
         "showlegend": true,
         "type": "scatter",
         "x": [
          0,
          1,
          5,
          6,
          7,
          8,
          9,
          10,
          11,
          12,
          13,
          14,
          15,
          16,
          17,
          18,
          19,
          20,
          21,
          22,
          23
         ],
         "xaxis": "x",
         "y": [
          2066,
          288,
          1983,
          10271,
          23262,
          37587,
          28152,
          19889,
          18253,
          19212,
          23012,
          27305,
          29302,
          28162,
          34664,
          48652,
          40514,
          28547,
          20312,
          11364,
          5108
         ],
         "yaxis": "y"
        },
        {
         "hovertemplate": "Día del viaje=Saturday<br>Hora de inicio del viaje (formato 24 hrs)=%{x}<br>Número de viajes=%{y}<extra></extra>",
         "legendgroup": "Saturday",
         "line": {
          "color": "#00cc96",
          "dash": "solid"
         },
         "marker": {
          "symbol": "circle"
         },
         "mode": "lines",
         "name": "Saturday",
         "orientation": "v",
         "showlegend": true,
         "type": "scatter",
         "x": [
          0,
          1,
          5,
          6,
          7,
          8,
          9,
          10,
          11,
          12,
          13,
          14,
          15,
          16,
          17,
          18,
          19,
          20,
          21,
          22,
          23
         ],
         "xaxis": "x",
         "y": [
          3973,
          425,
          1131,
          4601,
          10867,
          17754,
          18392,
          18601,
          19680,
          21705,
          26948,
          30564,
          25670,
          20473,
          17796,
          17263,
          17582,
          17333,
          15159,
          10142,
          6289
         ],
         "yaxis": "y"
        },
        {
         "hovertemplate": "Día del viaje=Sunday<br>Hora de inicio del viaje (formato 24 hrs)=%{x}<br>Número de viajes=%{y}<extra></extra>",
         "legendgroup": "Sunday",
         "line": {
          "color": "#ab63fa",
          "dash": "solid"
         },
         "marker": {
          "symbol": "circle"
         },
         "mode": "lines",
         "name": "Sunday",
         "orientation": "v",
         "showlegend": true,
         "type": "scatter",
         "x": [
          0,
          1,
          5,
          6,
          7,
          8,
          9,
          10,
          11,
          12,
          13,
          14,
          15,
          16,
          17,
          18,
          19,
          20,
          21,
          22,
          23
         ],
         "xaxis": "x",
         "y": [
          4101,
          473,
          843,
          2684,
          5653,
          10282,
          16791,
          22216,
          25959,
          25639,
          22964,
          18124,
          15710,
          13309,
          12427,
          12495,
          13824,
          14628,
          12551,
          8354,
          4148
         ],
         "yaxis": "y"
        },
        {
         "hovertemplate": "Día del viaje=Thursday<br>Hora de inicio del viaje (formato 24 hrs)=%{x}<br>Número de viajes=%{y}<extra></extra>",
         "legendgroup": "Thursday",
         "line": {
          "color": "#FFA15A",
          "dash": "solid"
         },
         "marker": {
          "symbol": "circle"
         },
         "mode": "lines",
         "name": "Thursday",
         "orientation": "v",
         "showlegend": true,
         "type": "scatter",
         "x": [
          0,
          1,
          5,
          6,
          7,
          8,
          9,
          10,
          11,
          12,
          13,
          14,
          15,
          16,
          17,
          18,
          19,
          20,
          21,
          22,
          23
         ],
         "xaxis": "x",
         "y": [
          2676,
          268,
          2034,
          11331,
          24872,
          38240,
          29058,
          20643,
          18839,
          19626,
          22896,
          27089,
          29425,
          28392,
          34420,
          46725,
          39417,
          27821,
          19642,
          11773,
          6120
         ],
         "yaxis": "y"
        },
        {
         "hovertemplate": "Día del viaje=Tuesday<br>Hora de inicio del viaje (formato 24 hrs)=%{x}<br>Número de viajes=%{y}<extra></extra>",
         "legendgroup": "Tuesday",
         "line": {
          "color": "#19d3f3",
          "dash": "solid"
         },
         "marker": {
          "symbol": "circle"
         },
         "mode": "lines",
         "name": "Tuesday",
         "orientation": "v",
         "showlegend": true,
         "type": "scatter",
         "x": [
          0,
          1,
          5,
          6,
          7,
          8,
          9,
          10,
          11,
          12,
          13,
          14,
          15,
          16,
          17,
          18,
          19,
          20,
          21,
          22,
          23
         ],
         "xaxis": "x",
         "y": [
          1811,
          224,
          1959,
          10851,
          24868,
          40101,
          30459,
          21215,
          18988,
          19350,
          23270,
          27787,
          29961,
          28084,
          35133,
          49097,
          42037,
          29285,
          21029,
          12025,
          5398
         ],
         "yaxis": "y"
        },
        {
         "hovertemplate": "Día del viaje=Wednesday<br>Hora de inicio del viaje (formato 24 hrs)=%{x}<br>Número de viajes=%{y}<extra></extra>",
         "legendgroup": "Wednesday",
         "line": {
          "color": "#FF6692",
          "dash": "solid"
         },
         "marker": {
          "symbol": "circle"
         },
         "mode": "lines",
         "name": "Wednesday",
         "orientation": "v",
         "showlegend": true,
         "type": "scatter",
         "x": [
          0,
          1,
          5,
          6,
          7,
          8,
          9,
          10,
          11,
          12,
          13,
          14,
          15,
          16,
          17,
          18,
          19,
          20,
          21,
          22,
          23
         ],
         "xaxis": "x",
         "y": [
          2286,
          287,
          1893,
          10950,
          24518,
          39273,
          29494,
          20866,
          18948,
          19673,
          23585,
          27432,
          29321,
          28198,
          34679,
          48749,
          39888,
          28305,
          21028,
          12273,
          5918
         ],
         "yaxis": "y"
        }
       ],
       "layout": {
        "legend": {
         "title": {
          "text": "Día del viaje"
         },
         "tracegroupgap": 0
        },
        "template": {
         "data": {
          "bar": [
           {
            "error_x": {
             "color": "#2a3f5f"
            },
            "error_y": {
             "color": "#2a3f5f"
            },
            "marker": {
             "line": {
              "color": "#E5ECF6",
              "width": 0.5
             },
             "pattern": {
              "fillmode": "overlay",
              "size": 10,
              "solidity": 0.2
             }
            },
            "type": "bar"
           }
          ],
          "barpolar": [
           {
            "marker": {
             "line": {
              "color": "#E5ECF6",
              "width": 0.5
             },
             "pattern": {
              "fillmode": "overlay",
              "size": 10,
              "solidity": 0.2
             }
            },
            "type": "barpolar"
           }
          ],
          "carpet": [
           {
            "aaxis": {
             "endlinecolor": "#2a3f5f",
             "gridcolor": "white",
             "linecolor": "white",
             "minorgridcolor": "white",
             "startlinecolor": "#2a3f5f"
            },
            "baxis": {
             "endlinecolor": "#2a3f5f",
             "gridcolor": "white",
             "linecolor": "white",
             "minorgridcolor": "white",
             "startlinecolor": "#2a3f5f"
            },
            "type": "carpet"
           }
          ],
          "choropleth": [
           {
            "colorbar": {
             "outlinewidth": 0,
             "ticks": ""
            },
            "type": "choropleth"
           }
          ],
          "contour": [
           {
            "colorbar": {
             "outlinewidth": 0,
             "ticks": ""
            },
            "colorscale": [
             [
              0,
              "#0d0887"
             ],
             [
              0.1111111111111111,
              "#46039f"
             ],
             [
              0.2222222222222222,
              "#7201a8"
             ],
             [
              0.3333333333333333,
              "#9c179e"
             ],
             [
              0.4444444444444444,
              "#bd3786"
             ],
             [
              0.5555555555555556,
              "#d8576b"
             ],
             [
              0.6666666666666666,
              "#ed7953"
             ],
             [
              0.7777777777777778,
              "#fb9f3a"
             ],
             [
              0.8888888888888888,
              "#fdca26"
             ],
             [
              1,
              "#f0f921"
             ]
            ],
            "type": "contour"
           }
          ],
          "contourcarpet": [
           {
            "colorbar": {
             "outlinewidth": 0,
             "ticks": ""
            },
            "type": "contourcarpet"
           }
          ],
          "heatmap": [
           {
            "colorbar": {
             "outlinewidth": 0,
             "ticks": ""
            },
            "colorscale": [
             [
              0,
              "#0d0887"
             ],
             [
              0.1111111111111111,
              "#46039f"
             ],
             [
              0.2222222222222222,
              "#7201a8"
             ],
             [
              0.3333333333333333,
              "#9c179e"
             ],
             [
              0.4444444444444444,
              "#bd3786"
             ],
             [
              0.5555555555555556,
              "#d8576b"
             ],
             [
              0.6666666666666666,
              "#ed7953"
             ],
             [
              0.7777777777777778,
              "#fb9f3a"
             ],
             [
              0.8888888888888888,
              "#fdca26"
             ],
             [
              1,
              "#f0f921"
             ]
            ],
            "type": "heatmap"
           }
          ],
          "heatmapgl": [
           {
            "colorbar": {
             "outlinewidth": 0,
             "ticks": ""
            },
            "colorscale": [
             [
              0,
              "#0d0887"
             ],
             [
              0.1111111111111111,
              "#46039f"
             ],
             [
              0.2222222222222222,
              "#7201a8"
             ],
             [
              0.3333333333333333,
              "#9c179e"
             ],
             [
              0.4444444444444444,
              "#bd3786"
             ],
             [
              0.5555555555555556,
              "#d8576b"
             ],
             [
              0.6666666666666666,
              "#ed7953"
             ],
             [
              0.7777777777777778,
              "#fb9f3a"
             ],
             [
              0.8888888888888888,
              "#fdca26"
             ],
             [
              1,
              "#f0f921"
             ]
            ],
            "type": "heatmapgl"
           }
          ],
          "histogram": [
           {
            "marker": {
             "pattern": {
              "fillmode": "overlay",
              "size": 10,
              "solidity": 0.2
             }
            },
            "type": "histogram"
           }
          ],
          "histogram2d": [
           {
            "colorbar": {
             "outlinewidth": 0,
             "ticks": ""
            },
            "colorscale": [
             [
              0,
              "#0d0887"
             ],
             [
              0.1111111111111111,
              "#46039f"
             ],
             [
              0.2222222222222222,
              "#7201a8"
             ],
             [
              0.3333333333333333,
              "#9c179e"
             ],
             [
              0.4444444444444444,
              "#bd3786"
             ],
             [
              0.5555555555555556,
              "#d8576b"
             ],
             [
              0.6666666666666666,
              "#ed7953"
             ],
             [
              0.7777777777777778,
              "#fb9f3a"
             ],
             [
              0.8888888888888888,
              "#fdca26"
             ],
             [
              1,
              "#f0f921"
             ]
            ],
            "type": "histogram2d"
           }
          ],
          "histogram2dcontour": [
           {
            "colorbar": {
             "outlinewidth": 0,
             "ticks": ""
            },
            "colorscale": [
             [
              0,
              "#0d0887"
             ],
             [
              0.1111111111111111,
              "#46039f"
             ],
             [
              0.2222222222222222,
              "#7201a8"
             ],
             [
              0.3333333333333333,
              "#9c179e"
             ],
             [
              0.4444444444444444,
              "#bd3786"
             ],
             [
              0.5555555555555556,
              "#d8576b"
             ],
             [
              0.6666666666666666,
              "#ed7953"
             ],
             [
              0.7777777777777778,
              "#fb9f3a"
             ],
             [
              0.8888888888888888,
              "#fdca26"
             ],
             [
              1,
              "#f0f921"
             ]
            ],
            "type": "histogram2dcontour"
           }
          ],
          "mesh3d": [
           {
            "colorbar": {
             "outlinewidth": 0,
             "ticks": ""
            },
            "type": "mesh3d"
           }
          ],
          "parcoords": [
           {
            "line": {
             "colorbar": {
              "outlinewidth": 0,
              "ticks": ""
             }
            },
            "type": "parcoords"
           }
          ],
          "pie": [
           {
            "automargin": true,
            "type": "pie"
           }
          ],
          "scatter": [
           {
            "fillpattern": {
             "fillmode": "overlay",
             "size": 10,
             "solidity": 0.2
            },
            "type": "scatter"
           }
          ],
          "scatter3d": [
           {
            "line": {
             "colorbar": {
              "outlinewidth": 0,
              "ticks": ""
             }
            },
            "marker": {
             "colorbar": {
              "outlinewidth": 0,
              "ticks": ""
             }
            },
            "type": "scatter3d"
           }
          ],
          "scattercarpet": [
           {
            "marker": {
             "colorbar": {
              "outlinewidth": 0,
              "ticks": ""
             }
            },
            "type": "scattercarpet"
           }
          ],
          "scattergeo": [
           {
            "marker": {
             "colorbar": {
              "outlinewidth": 0,
              "ticks": ""
             }
            },
            "type": "scattergeo"
           }
          ],
          "scattergl": [
           {
            "marker": {
             "colorbar": {
              "outlinewidth": 0,
              "ticks": ""
             }
            },
            "type": "scattergl"
           }
          ],
          "scattermapbox": [
           {
            "marker": {
             "colorbar": {
              "outlinewidth": 0,
              "ticks": ""
             }
            },
            "type": "scattermapbox"
           }
          ],
          "scatterpolar": [
           {
            "marker": {
             "colorbar": {
              "outlinewidth": 0,
              "ticks": ""
             }
            },
            "type": "scatterpolar"
           }
          ],
          "scatterpolargl": [
           {
            "marker": {
             "colorbar": {
              "outlinewidth": 0,
              "ticks": ""
             }
            },
            "type": "scatterpolargl"
           }
          ],
          "scatterternary": [
           {
            "marker": {
             "colorbar": {
              "outlinewidth": 0,
              "ticks": ""
             }
            },
            "type": "scatterternary"
           }
          ],
          "surface": [
           {
            "colorbar": {
             "outlinewidth": 0,
             "ticks": ""
            },
            "colorscale": [
             [
              0,
              "#0d0887"
             ],
             [
              0.1111111111111111,
              "#46039f"
             ],
             [
              0.2222222222222222,
              "#7201a8"
             ],
             [
              0.3333333333333333,
              "#9c179e"
             ],
             [
              0.4444444444444444,
              "#bd3786"
             ],
             [
              0.5555555555555556,
              "#d8576b"
             ],
             [
              0.6666666666666666,
              "#ed7953"
             ],
             [
              0.7777777777777778,
              "#fb9f3a"
             ],
             [
              0.8888888888888888,
              "#fdca26"
             ],
             [
              1,
              "#f0f921"
             ]
            ],
            "type": "surface"
           }
          ],
          "table": [
           {
            "cells": {
             "fill": {
              "color": "#EBF0F8"
             },
             "line": {
              "color": "white"
             }
            },
            "header": {
             "fill": {
              "color": "#C8D4E3"
             },
             "line": {
              "color": "white"
             }
            },
            "type": "table"
           }
          ]
         },
         "layout": {
          "annotationdefaults": {
           "arrowcolor": "#2a3f5f",
           "arrowhead": 0,
           "arrowwidth": 1
          },
          "autotypenumbers": "strict",
          "coloraxis": {
           "colorbar": {
            "outlinewidth": 0,
            "ticks": ""
           }
          },
          "colorscale": {
           "diverging": [
            [
             0,
             "#8e0152"
            ],
            [
             0.1,
             "#c51b7d"
            ],
            [
             0.2,
             "#de77ae"
            ],
            [
             0.3,
             "#f1b6da"
            ],
            [
             0.4,
             "#fde0ef"
            ],
            [
             0.5,
             "#f7f7f7"
            ],
            [
             0.6,
             "#e6f5d0"
            ],
            [
             0.7,
             "#b8e186"
            ],
            [
             0.8,
             "#7fbc41"
            ],
            [
             0.9,
             "#4d9221"
            ],
            [
             1,
             "#276419"
            ]
           ],
           "sequential": [
            [
             0,
             "#0d0887"
            ],
            [
             0.1111111111111111,
             "#46039f"
            ],
            [
             0.2222222222222222,
             "#7201a8"
            ],
            [
             0.3333333333333333,
             "#9c179e"
            ],
            [
             0.4444444444444444,
             "#bd3786"
            ],
            [
             0.5555555555555556,
             "#d8576b"
            ],
            [
             0.6666666666666666,
             "#ed7953"
            ],
            [
             0.7777777777777778,
             "#fb9f3a"
            ],
            [
             0.8888888888888888,
             "#fdca26"
            ],
            [
             1,
             "#f0f921"
            ]
           ],
           "sequentialminus": [
            [
             0,
             "#0d0887"
            ],
            [
             0.1111111111111111,
             "#46039f"
            ],
            [
             0.2222222222222222,
             "#7201a8"
            ],
            [
             0.3333333333333333,
             "#9c179e"
            ],
            [
             0.4444444444444444,
             "#bd3786"
            ],
            [
             0.5555555555555556,
             "#d8576b"
            ],
            [
             0.6666666666666666,
             "#ed7953"
            ],
            [
             0.7777777777777778,
             "#fb9f3a"
            ],
            [
             0.8888888888888888,
             "#fdca26"
            ],
            [
             1,
             "#f0f921"
            ]
           ]
          },
          "colorway": [
           "#636efa",
           "#EF553B",
           "#00cc96",
           "#ab63fa",
           "#FFA15A",
           "#19d3f3",
           "#FF6692",
           "#B6E880",
           "#FF97FF",
           "#FECB52"
          ],
          "font": {
           "color": "#2a3f5f"
          },
          "geo": {
           "bgcolor": "white",
           "lakecolor": "white",
           "landcolor": "#E5ECF6",
           "showlakes": true,
           "showland": true,
           "subunitcolor": "white"
          },
          "hoverlabel": {
           "align": "left"
          },
          "hovermode": "closest",
          "mapbox": {
           "style": "light"
          },
          "paper_bgcolor": "white",
          "plot_bgcolor": "#E5ECF6",
          "polar": {
           "angularaxis": {
            "gridcolor": "white",
            "linecolor": "white",
            "ticks": ""
           },
           "bgcolor": "#E5ECF6",
           "radialaxis": {
            "gridcolor": "white",
            "linecolor": "white",
            "ticks": ""
           }
          },
          "scene": {
           "xaxis": {
            "backgroundcolor": "#E5ECF6",
            "gridcolor": "white",
            "gridwidth": 2,
            "linecolor": "white",
            "showbackground": true,
            "ticks": "",
            "zerolinecolor": "white"
           },
           "yaxis": {
            "backgroundcolor": "#E5ECF6",
            "gridcolor": "white",
            "gridwidth": 2,
            "linecolor": "white",
            "showbackground": true,
            "ticks": "",
            "zerolinecolor": "white"
           },
           "zaxis": {
            "backgroundcolor": "#E5ECF6",
            "gridcolor": "white",
            "gridwidth": 2,
            "linecolor": "white",
            "showbackground": true,
            "ticks": "",
            "zerolinecolor": "white"
           }
          },
          "shapedefaults": {
           "line": {
            "color": "#2a3f5f"
           }
          },
          "ternary": {
           "aaxis": {
            "gridcolor": "white",
            "linecolor": "white",
            "ticks": ""
           },
           "baxis": {
            "gridcolor": "white",
            "linecolor": "white",
            "ticks": ""
           },
           "bgcolor": "#E5ECF6",
           "caxis": {
            "gridcolor": "white",
            "linecolor": "white",
            "ticks": ""
           }
          },
          "title": {
           "x": 0.05
          },
          "xaxis": {
           "automargin": true,
           "gridcolor": "white",
           "linecolor": "white",
           "ticks": "",
           "title": {
            "standoff": 15
           },
           "zerolinecolor": "white",
           "zerolinewidth": 2
          },
          "yaxis": {
           "automargin": true,
           "gridcolor": "white",
           "linecolor": "white",
           "ticks": "",
           "title": {
            "standoff": 15
           },
           "zerolinecolor": "white",
           "zerolinewidth": 2
          }
         }
        },
        "title": {
         "text": "Cantidad de viajes por hora del día"
        },
        "xaxis": {
         "anchor": "y",
         "domain": [
          0,
          1
         ],
         "dtick": 1,
         "tick0": 0,
         "tickmode": "linear",
         "title": {
          "text": "Hora de inicio del viaje (formato 24 hrs)"
         }
        },
        "yaxis": {
         "anchor": "x",
         "domain": [
          0,
          1
         ],
         "title": {
          "text": "Número de viajes"
         }
        }
       }
      },
      "text/html": [
       "<div>                            <div id=\"7e04d2d2-958d-48ea-84e1-3c057183f572\" class=\"plotly-graph-div\" style=\"height:525px; width:100%;\"></div>            <script type=\"text/javascript\">                require([\"plotly\"], function(Plotly) {                    window.PLOTLYENV=window.PLOTLYENV || {};                                    if (document.getElementById(\"7e04d2d2-958d-48ea-84e1-3c057183f572\")) {                    Plotly.newPlot(                        \"7e04d2d2-958d-48ea-84e1-3c057183f572\",                        [{\"hovertemplate\":\"D\\u00eda del viaje=Friday\\u003cbr\\u003eHora de inicio del viaje (formato 24 hrs)=%{x}\\u003cbr\\u003eN\\u00famero de viajes=%{y}\\u003cextra\\u003e\\u003c\\u002fextra\\u003e\",\"legendgroup\":\"Friday\",\"line\":{\"color\":\"#636efa\",\"dash\":\"solid\"},\"marker\":{\"symbol\":\"circle\"},\"mode\":\"lines\",\"name\":\"Friday\",\"orientation\":\"v\",\"showlegend\":true,\"x\":[0,1,5,6,7,8,9,10,11,12,13,14,15,16,17,18,19,20,21,22,23],\"xaxis\":\"x\",\"y\":[2938,340,1894,10223,22970,36165,28225,20598,19150,19586,23467,27162,30059,27713,31385,41617,35029,26343,19574,11802,6620],\"yaxis\":\"y\",\"type\":\"scatter\"},{\"hovertemplate\":\"D\\u00eda del viaje=Monday\\u003cbr\\u003eHora de inicio del viaje (formato 24 hrs)=%{x}\\u003cbr\\u003eN\\u00famero de viajes=%{y}\\u003cextra\\u003e\\u003c\\u002fextra\\u003e\",\"legendgroup\":\"Monday\",\"line\":{\"color\":\"#EF553B\",\"dash\":\"solid\"},\"marker\":{\"symbol\":\"circle\"},\"mode\":\"lines\",\"name\":\"Monday\",\"orientation\":\"v\",\"showlegend\":true,\"x\":[0,1,5,6,7,8,9,10,11,12,13,14,15,16,17,18,19,20,21,22,23],\"xaxis\":\"x\",\"y\":[2066,288,1983,10271,23262,37587,28152,19889,18253,19212,23012,27305,29302,28162,34664,48652,40514,28547,20312,11364,5108],\"yaxis\":\"y\",\"type\":\"scatter\"},{\"hovertemplate\":\"D\\u00eda del viaje=Saturday\\u003cbr\\u003eHora de inicio del viaje (formato 24 hrs)=%{x}\\u003cbr\\u003eN\\u00famero de viajes=%{y}\\u003cextra\\u003e\\u003c\\u002fextra\\u003e\",\"legendgroup\":\"Saturday\",\"line\":{\"color\":\"#00cc96\",\"dash\":\"solid\"},\"marker\":{\"symbol\":\"circle\"},\"mode\":\"lines\",\"name\":\"Saturday\",\"orientation\":\"v\",\"showlegend\":true,\"x\":[0,1,5,6,7,8,9,10,11,12,13,14,15,16,17,18,19,20,21,22,23],\"xaxis\":\"x\",\"y\":[3973,425,1131,4601,10867,17754,18392,18601,19680,21705,26948,30564,25670,20473,17796,17263,17582,17333,15159,10142,6289],\"yaxis\":\"y\",\"type\":\"scatter\"},{\"hovertemplate\":\"D\\u00eda del viaje=Sunday\\u003cbr\\u003eHora de inicio del viaje (formato 24 hrs)=%{x}\\u003cbr\\u003eN\\u00famero de viajes=%{y}\\u003cextra\\u003e\\u003c\\u002fextra\\u003e\",\"legendgroup\":\"Sunday\",\"line\":{\"color\":\"#ab63fa\",\"dash\":\"solid\"},\"marker\":{\"symbol\":\"circle\"},\"mode\":\"lines\",\"name\":\"Sunday\",\"orientation\":\"v\",\"showlegend\":true,\"x\":[0,1,5,6,7,8,9,10,11,12,13,14,15,16,17,18,19,20,21,22,23],\"xaxis\":\"x\",\"y\":[4101,473,843,2684,5653,10282,16791,22216,25959,25639,22964,18124,15710,13309,12427,12495,13824,14628,12551,8354,4148],\"yaxis\":\"y\",\"type\":\"scatter\"},{\"hovertemplate\":\"D\\u00eda del viaje=Thursday\\u003cbr\\u003eHora de inicio del viaje (formato 24 hrs)=%{x}\\u003cbr\\u003eN\\u00famero de viajes=%{y}\\u003cextra\\u003e\\u003c\\u002fextra\\u003e\",\"legendgroup\":\"Thursday\",\"line\":{\"color\":\"#FFA15A\",\"dash\":\"solid\"},\"marker\":{\"symbol\":\"circle\"},\"mode\":\"lines\",\"name\":\"Thursday\",\"orientation\":\"v\",\"showlegend\":true,\"x\":[0,1,5,6,7,8,9,10,11,12,13,14,15,16,17,18,19,20,21,22,23],\"xaxis\":\"x\",\"y\":[2676,268,2034,11331,24872,38240,29058,20643,18839,19626,22896,27089,29425,28392,34420,46725,39417,27821,19642,11773,6120],\"yaxis\":\"y\",\"type\":\"scatter\"},{\"hovertemplate\":\"D\\u00eda del viaje=Tuesday\\u003cbr\\u003eHora de inicio del viaje (formato 24 hrs)=%{x}\\u003cbr\\u003eN\\u00famero de viajes=%{y}\\u003cextra\\u003e\\u003c\\u002fextra\\u003e\",\"legendgroup\":\"Tuesday\",\"line\":{\"color\":\"#19d3f3\",\"dash\":\"solid\"},\"marker\":{\"symbol\":\"circle\"},\"mode\":\"lines\",\"name\":\"Tuesday\",\"orientation\":\"v\",\"showlegend\":true,\"x\":[0,1,5,6,7,8,9,10,11,12,13,14,15,16,17,18,19,20,21,22,23],\"xaxis\":\"x\",\"y\":[1811,224,1959,10851,24868,40101,30459,21215,18988,19350,23270,27787,29961,28084,35133,49097,42037,29285,21029,12025,5398],\"yaxis\":\"y\",\"type\":\"scatter\"},{\"hovertemplate\":\"D\\u00eda del viaje=Wednesday\\u003cbr\\u003eHora de inicio del viaje (formato 24 hrs)=%{x}\\u003cbr\\u003eN\\u00famero de viajes=%{y}\\u003cextra\\u003e\\u003c\\u002fextra\\u003e\",\"legendgroup\":\"Wednesday\",\"line\":{\"color\":\"#FF6692\",\"dash\":\"solid\"},\"marker\":{\"symbol\":\"circle\"},\"mode\":\"lines\",\"name\":\"Wednesday\",\"orientation\":\"v\",\"showlegend\":true,\"x\":[0,1,5,6,7,8,9,10,11,12,13,14,15,16,17,18,19,20,21,22,23],\"xaxis\":\"x\",\"y\":[2286,287,1893,10950,24518,39273,29494,20866,18948,19673,23585,27432,29321,28198,34679,48749,39888,28305,21028,12273,5918],\"yaxis\":\"y\",\"type\":\"scatter\"}],                        {\"legend\":{\"title\":{\"text\":\"D\\u00eda del viaje\"},\"tracegroupgap\":0},\"template\":{\"data\":{\"barpolar\":[{\"marker\":{\"line\":{\"color\":\"#E5ECF6\",\"width\":0.5},\"pattern\":{\"fillmode\":\"overlay\",\"size\":10,\"solidity\":0.2}},\"type\":\"barpolar\"}],\"bar\":[{\"error_x\":{\"color\":\"#2a3f5f\"},\"error_y\":{\"color\":\"#2a3f5f\"},\"marker\":{\"line\":{\"color\":\"#E5ECF6\",\"width\":0.5},\"pattern\":{\"fillmode\":\"overlay\",\"size\":10,\"solidity\":0.2}},\"type\":\"bar\"}],\"carpet\":[{\"aaxis\":{\"endlinecolor\":\"#2a3f5f\",\"gridcolor\":\"white\",\"linecolor\":\"white\",\"minorgridcolor\":\"white\",\"startlinecolor\":\"#2a3f5f\"},\"baxis\":{\"endlinecolor\":\"#2a3f5f\",\"gridcolor\":\"white\",\"linecolor\":\"white\",\"minorgridcolor\":\"white\",\"startlinecolor\":\"#2a3f5f\"},\"type\":\"carpet\"}],\"choropleth\":[{\"colorbar\":{\"outlinewidth\":0,\"ticks\":\"\"},\"type\":\"choropleth\"}],\"contourcarpet\":[{\"colorbar\":{\"outlinewidth\":0,\"ticks\":\"\"},\"type\":\"contourcarpet\"}],\"contour\":[{\"colorbar\":{\"outlinewidth\":0,\"ticks\":\"\"},\"colorscale\":[[0.0,\"#0d0887\"],[0.1111111111111111,\"#46039f\"],[0.2222222222222222,\"#7201a8\"],[0.3333333333333333,\"#9c179e\"],[0.4444444444444444,\"#bd3786\"],[0.5555555555555556,\"#d8576b\"],[0.6666666666666666,\"#ed7953\"],[0.7777777777777778,\"#fb9f3a\"],[0.8888888888888888,\"#fdca26\"],[1.0,\"#f0f921\"]],\"type\":\"contour\"}],\"heatmapgl\":[{\"colorbar\":{\"outlinewidth\":0,\"ticks\":\"\"},\"colorscale\":[[0.0,\"#0d0887\"],[0.1111111111111111,\"#46039f\"],[0.2222222222222222,\"#7201a8\"],[0.3333333333333333,\"#9c179e\"],[0.4444444444444444,\"#bd3786\"],[0.5555555555555556,\"#d8576b\"],[0.6666666666666666,\"#ed7953\"],[0.7777777777777778,\"#fb9f3a\"],[0.8888888888888888,\"#fdca26\"],[1.0,\"#f0f921\"]],\"type\":\"heatmapgl\"}],\"heatmap\":[{\"colorbar\":{\"outlinewidth\":0,\"ticks\":\"\"},\"colorscale\":[[0.0,\"#0d0887\"],[0.1111111111111111,\"#46039f\"],[0.2222222222222222,\"#7201a8\"],[0.3333333333333333,\"#9c179e\"],[0.4444444444444444,\"#bd3786\"],[0.5555555555555556,\"#d8576b\"],[0.6666666666666666,\"#ed7953\"],[0.7777777777777778,\"#fb9f3a\"],[0.8888888888888888,\"#fdca26\"],[1.0,\"#f0f921\"]],\"type\":\"heatmap\"}],\"histogram2dcontour\":[{\"colorbar\":{\"outlinewidth\":0,\"ticks\":\"\"},\"colorscale\":[[0.0,\"#0d0887\"],[0.1111111111111111,\"#46039f\"],[0.2222222222222222,\"#7201a8\"],[0.3333333333333333,\"#9c179e\"],[0.4444444444444444,\"#bd3786\"],[0.5555555555555556,\"#d8576b\"],[0.6666666666666666,\"#ed7953\"],[0.7777777777777778,\"#fb9f3a\"],[0.8888888888888888,\"#fdca26\"],[1.0,\"#f0f921\"]],\"type\":\"histogram2dcontour\"}],\"histogram2d\":[{\"colorbar\":{\"outlinewidth\":0,\"ticks\":\"\"},\"colorscale\":[[0.0,\"#0d0887\"],[0.1111111111111111,\"#46039f\"],[0.2222222222222222,\"#7201a8\"],[0.3333333333333333,\"#9c179e\"],[0.4444444444444444,\"#bd3786\"],[0.5555555555555556,\"#d8576b\"],[0.6666666666666666,\"#ed7953\"],[0.7777777777777778,\"#fb9f3a\"],[0.8888888888888888,\"#fdca26\"],[1.0,\"#f0f921\"]],\"type\":\"histogram2d\"}],\"histogram\":[{\"marker\":{\"pattern\":{\"fillmode\":\"overlay\",\"size\":10,\"solidity\":0.2}},\"type\":\"histogram\"}],\"mesh3d\":[{\"colorbar\":{\"outlinewidth\":0,\"ticks\":\"\"},\"type\":\"mesh3d\"}],\"parcoords\":[{\"line\":{\"colorbar\":{\"outlinewidth\":0,\"ticks\":\"\"}},\"type\":\"parcoords\"}],\"pie\":[{\"automargin\":true,\"type\":\"pie\"}],\"scatter3d\":[{\"line\":{\"colorbar\":{\"outlinewidth\":0,\"ticks\":\"\"}},\"marker\":{\"colorbar\":{\"outlinewidth\":0,\"ticks\":\"\"}},\"type\":\"scatter3d\"}],\"scattercarpet\":[{\"marker\":{\"colorbar\":{\"outlinewidth\":0,\"ticks\":\"\"}},\"type\":\"scattercarpet\"}],\"scattergeo\":[{\"marker\":{\"colorbar\":{\"outlinewidth\":0,\"ticks\":\"\"}},\"type\":\"scattergeo\"}],\"scattergl\":[{\"marker\":{\"colorbar\":{\"outlinewidth\":0,\"ticks\":\"\"}},\"type\":\"scattergl\"}],\"scattermapbox\":[{\"marker\":{\"colorbar\":{\"outlinewidth\":0,\"ticks\":\"\"}},\"type\":\"scattermapbox\"}],\"scatterpolargl\":[{\"marker\":{\"colorbar\":{\"outlinewidth\":0,\"ticks\":\"\"}},\"type\":\"scatterpolargl\"}],\"scatterpolar\":[{\"marker\":{\"colorbar\":{\"outlinewidth\":0,\"ticks\":\"\"}},\"type\":\"scatterpolar\"}],\"scatter\":[{\"fillpattern\":{\"fillmode\":\"overlay\",\"size\":10,\"solidity\":0.2},\"type\":\"scatter\"}],\"scatterternary\":[{\"marker\":{\"colorbar\":{\"outlinewidth\":0,\"ticks\":\"\"}},\"type\":\"scatterternary\"}],\"surface\":[{\"colorbar\":{\"outlinewidth\":0,\"ticks\":\"\"},\"colorscale\":[[0.0,\"#0d0887\"],[0.1111111111111111,\"#46039f\"],[0.2222222222222222,\"#7201a8\"],[0.3333333333333333,\"#9c179e\"],[0.4444444444444444,\"#bd3786\"],[0.5555555555555556,\"#d8576b\"],[0.6666666666666666,\"#ed7953\"],[0.7777777777777778,\"#fb9f3a\"],[0.8888888888888888,\"#fdca26\"],[1.0,\"#f0f921\"]],\"type\":\"surface\"}],\"table\":[{\"cells\":{\"fill\":{\"color\":\"#EBF0F8\"},\"line\":{\"color\":\"white\"}},\"header\":{\"fill\":{\"color\":\"#C8D4E3\"},\"line\":{\"color\":\"white\"}},\"type\":\"table\"}]},\"layout\":{\"annotationdefaults\":{\"arrowcolor\":\"#2a3f5f\",\"arrowhead\":0,\"arrowwidth\":1},\"autotypenumbers\":\"strict\",\"coloraxis\":{\"colorbar\":{\"outlinewidth\":0,\"ticks\":\"\"}},\"colorscale\":{\"diverging\":[[0,\"#8e0152\"],[0.1,\"#c51b7d\"],[0.2,\"#de77ae\"],[0.3,\"#f1b6da\"],[0.4,\"#fde0ef\"],[0.5,\"#f7f7f7\"],[0.6,\"#e6f5d0\"],[0.7,\"#b8e186\"],[0.8,\"#7fbc41\"],[0.9,\"#4d9221\"],[1,\"#276419\"]],\"sequential\":[[0.0,\"#0d0887\"],[0.1111111111111111,\"#46039f\"],[0.2222222222222222,\"#7201a8\"],[0.3333333333333333,\"#9c179e\"],[0.4444444444444444,\"#bd3786\"],[0.5555555555555556,\"#d8576b\"],[0.6666666666666666,\"#ed7953\"],[0.7777777777777778,\"#fb9f3a\"],[0.8888888888888888,\"#fdca26\"],[1.0,\"#f0f921\"]],\"sequentialminus\":[[0.0,\"#0d0887\"],[0.1111111111111111,\"#46039f\"],[0.2222222222222222,\"#7201a8\"],[0.3333333333333333,\"#9c179e\"],[0.4444444444444444,\"#bd3786\"],[0.5555555555555556,\"#d8576b\"],[0.6666666666666666,\"#ed7953\"],[0.7777777777777778,\"#fb9f3a\"],[0.8888888888888888,\"#fdca26\"],[1.0,\"#f0f921\"]]},\"colorway\":[\"#636efa\",\"#EF553B\",\"#00cc96\",\"#ab63fa\",\"#FFA15A\",\"#19d3f3\",\"#FF6692\",\"#B6E880\",\"#FF97FF\",\"#FECB52\"],\"font\":{\"color\":\"#2a3f5f\"},\"geo\":{\"bgcolor\":\"white\",\"lakecolor\":\"white\",\"landcolor\":\"#E5ECF6\",\"showlakes\":true,\"showland\":true,\"subunitcolor\":\"white\"},\"hoverlabel\":{\"align\":\"left\"},\"hovermode\":\"closest\",\"mapbox\":{\"style\":\"light\"},\"paper_bgcolor\":\"white\",\"plot_bgcolor\":\"#E5ECF6\",\"polar\":{\"angularaxis\":{\"gridcolor\":\"white\",\"linecolor\":\"white\",\"ticks\":\"\"},\"bgcolor\":\"#E5ECF6\",\"radialaxis\":{\"gridcolor\":\"white\",\"linecolor\":\"white\",\"ticks\":\"\"}},\"scene\":{\"xaxis\":{\"backgroundcolor\":\"#E5ECF6\",\"gridcolor\":\"white\",\"gridwidth\":2,\"linecolor\":\"white\",\"showbackground\":true,\"ticks\":\"\",\"zerolinecolor\":\"white\"},\"yaxis\":{\"backgroundcolor\":\"#E5ECF6\",\"gridcolor\":\"white\",\"gridwidth\":2,\"linecolor\":\"white\",\"showbackground\":true,\"ticks\":\"\",\"zerolinecolor\":\"white\"},\"zaxis\":{\"backgroundcolor\":\"#E5ECF6\",\"gridcolor\":\"white\",\"gridwidth\":2,\"linecolor\":\"white\",\"showbackground\":true,\"ticks\":\"\",\"zerolinecolor\":\"white\"}},\"shapedefaults\":{\"line\":{\"color\":\"#2a3f5f\"}},\"ternary\":{\"aaxis\":{\"gridcolor\":\"white\",\"linecolor\":\"white\",\"ticks\":\"\"},\"baxis\":{\"gridcolor\":\"white\",\"linecolor\":\"white\",\"ticks\":\"\"},\"bgcolor\":\"#E5ECF6\",\"caxis\":{\"gridcolor\":\"white\",\"linecolor\":\"white\",\"ticks\":\"\"}},\"title\":{\"x\":0.05},\"xaxis\":{\"automargin\":true,\"gridcolor\":\"white\",\"linecolor\":\"white\",\"ticks\":\"\",\"title\":{\"standoff\":15},\"zerolinecolor\":\"white\",\"zerolinewidth\":2},\"yaxis\":{\"automargin\":true,\"gridcolor\":\"white\",\"linecolor\":\"white\",\"ticks\":\"\",\"title\":{\"standoff\":15},\"zerolinecolor\":\"white\",\"zerolinewidth\":2}}},\"title\":{\"text\":\"Cantidad de viajes por hora del d\\u00eda\"},\"xaxis\":{\"anchor\":\"y\",\"domain\":[0.0,1.0],\"dtick\":1,\"tick0\":0,\"tickmode\":\"linear\",\"title\":{\"text\":\"Hora de inicio del viaje (formato 24 hrs)\"}},\"yaxis\":{\"anchor\":\"x\",\"domain\":[0.0,1.0],\"title\":{\"text\":\"N\\u00famero de viajes\"}}},                        {\"responsive\": true}                    ).then(function(){\n",
       "                            \n",
       "var gd = document.getElementById('7e04d2d2-958d-48ea-84e1-3c057183f572');\n",
       "var x = new MutationObserver(function (mutations, observer) {{\n",
       "        var display = window.getComputedStyle(gd).display;\n",
       "        if (!display || display === 'none') {{\n",
       "            console.log([gd, 'removed!']);\n",
       "            Plotly.purge(gd);\n",
       "            observer.disconnect();\n",
       "        }}\n",
       "}});\n",
       "\n",
       "// Listen for the removal of the full notebook cells\n",
       "var notebookContainer = gd.closest('#notebook-container');\n",
       "if (notebookContainer) {{\n",
       "    x.observe(notebookContainer, {childList: true});\n",
       "}}\n",
       "\n",
       "// Listen for the clearing of the current output cell\n",
       "var outputEl = gd.closest('.output');\n",
       "if (outputEl) {{\n",
       "    x.observe(outputEl, {childList: true});\n",
       "}}\n",
       "\n",
       "                        })                };                });            </script>        </div>"
      ]
     },
     "metadata": {},
     "output_type": "display_data"
    }
   ],
   "source": [
    "mibici_df_start_trip_by_hour = mibici_df.groupby([\"start_trip_hour\", \"start_trip_day_name\"])[\"start_trip_hour\"].count().reset_index(name=\"count\").reset_index(drop=True)\n",
    "\n",
    "fig = px.line(\n",
    "    mibici_df_start_trip_by_hour, \n",
    "    x=\"start_trip_hour\", \n",
    "    y=\"count\", \n",
    "    line_group=\"start_trip_day_name\", \n",
    "    color=\"start_trip_day_name\", \n",
    "    title='Cantidad de viajes por hora del día',\n",
    "    labels={\n",
    "         \"start_trip_hour\": \"Hora de inicio del viaje (formato 24 hrs)\",\n",
    "         \"start_trip_day_name\": \"Día del viaje\",\n",
    "         \"count\": \"Número de viajes\"\n",
    "     },\n",
    ")\n",
    "fig.update_layout(\n",
    "    xaxis = dict(\n",
    "        tickmode = 'linear',\n",
    "        tick0 = 0,\n",
    "        dtick = 1\n",
    "    )\n",
    ")\n",
    "# iplot(fig)\n",
    "# fig.show() #interactive chart\n",
    "pio.show(fig)"
   ]
  },
  {
   "cell_type": "markdown",
   "id": "0d5c6703",
   "metadata": {},
   "source": [
    "### Viajes de los usuarios por género y año \n",
    "\n",
    "A continuación haremos un análisis de como ha crecido el uso de MiBici en los últimos 2 años por género, como podemos observar la adopción del servicio entre el género masculino y femenino es visiblemente muy diferente, esto nos muestra que hay oportunidad de crecimiento y ganar más usuarios para MiBici"
   ]
  },
  {
   "cell_type": "code",
   "execution_count": 228,
   "id": "cd9b809b",
   "metadata": {},
   "outputs": [
    {
     "data": {
      "text/plain": [
       "Text(0.5, 0, 'Año')"
      ]
     },
     "execution_count": 228,
     "metadata": {},
     "output_type": "execute_result"
    },
    {
     "data": {
      "image/png": "[encoded data removed]",
      "text/plain": [
       "<Figure size 1500x800 with 1 Axes>"
      ]
     },
     "metadata": {},
     "output_type": "display_data"
    }
   ],
   "source": [
    "# count trips by year plot\n",
    "fig, ax = plt.subplots(figsize=(15,8))\n",
    "ax = sns.countplot(data=mibici_df, x=\"year\", ax=ax, hue='gender')\n",
    "ax.yaxis.set_major_formatter(formatter)\n",
    "ax.yaxis.set_minor_formatter(NullFormatter())\n",
    "\n",
    "ax.set_ylabel(\"Número de viajes\")\n",
    "ax.set_xlabel(\"Año\")"
   ]
  },
  {
   "cell_type": "markdown",
   "id": "81a122c8",
   "metadata": {},
   "source": [
    "### Edad de los usuarios distribuidos por año y género\n",
    "\n",
    "A continuación haremos un análisis de como ha crecido el uso de MiBici en los últimos 2 años por género, como podemos observar la adopción del servicio entre el género masculino y femenino es visiblemente muy diferente, esto nos muestra que hay oportunidad de crecimiento y ganar más usuarios para MiBici"
   ]
  },
  {
   "cell_type": "code",
   "execution_count": 229,
   "id": "0a61c79f",
   "metadata": {},
   "outputs": [
    {
     "data": {
      "text/plain": [
       "[<matplotlib.axis.XTick at 0x7fcf21bca890>,\n",
       " <matplotlib.axis.XTick at 0x7fcf21bca860>,\n",
       " <matplotlib.axis.XTick at 0x7fcf21bca770>,\n",
       " <matplotlib.axis.XTick at 0x7fcedbf69390>,\n",
       " <matplotlib.axis.XTick at 0x7fcedbf69990>,\n",
       " <matplotlib.axis.XTick at 0x7fd237fd5b40>,\n",
       " <matplotlib.axis.XTick at 0x7fd237fd6320>,\n",
       " <matplotlib.axis.XTick at 0x7fd237fd6b00>,\n",
       " <matplotlib.axis.XTick at 0x7fcedbf68580>,\n",
       " <matplotlib.axis.XTick at 0x7fd237fd5ed0>,\n",
       " <matplotlib.axis.XTick at 0x7fd237fd6f80>]"
      ]
     },
     "execution_count": 229,
     "metadata": {},
     "output_type": "execute_result"
    },
    {
     "data": {
      "image/png": "[encoded data removed]",
      "text/plain": [
       "<Figure size 1000x1500 with 3 Axes>"
      ]
     },
     "metadata": {},
     "output_type": "display_data"
    }
   ],
   "source": [
    "mibici_grouped_by_age_range = mibici_df.groupby(['year','gender','age_range' ])['age'].count().reset_index(name=\"count\").reset_index(drop=True)\n",
    "mibici_grouped_by_age_range['age_range'] = mibici_grouped_by_age_range.age_range.astype(str)\n",
    "mibici_grouped_by_age_range.loc[mibici_grouped_by_age_range['gender'] == 'M', 'count'] = mibici_grouped_by_age_range['count']* -1\n",
    "\n",
    "ages = ['(80, 90]','(70, 80]', '(60, 70]', '(50, 60]', '(40, 50]', '(30, 40]', '(20, 30]', '(10, 20]', '(0, 10]']\n",
    "ticks = [-250000, -200000, -150000, -100000, -50000, 0, 50000, 100000, 150000, 200000, 250000]\n",
    "labels = ['250k', '200k', '150k', '100k', '500k', '0', '50k', '100k', '150k', '200k', '250k']\n",
    "\n",
    "data_by_gender = lambda gender: (mibici_grouped_by_age_range['gender'] == gender)\n",
    "data_by_year = lambda year: (mibici_grouped_by_age_range['year'] == year)\n",
    "\n",
    "fig, ax = plt.subplots(nrows=3, ncols=1, figsize=(10,15))\n",
    "sns.barplot(x='count', y='age_range', ax=ax[0], data=mibici_grouped_by_age_range[data_by_gender('M') & data_by_year(2021)], order=ages, palette=\"Blues\", width=1)\n",
    "sns.barplot(x='count', y='age_range', ax=ax[0], data=mibici_grouped_by_age_range[data_by_gender('F') & data_by_year(2021)], order=ages, palette=\"RdPu\", width=1)\n",
    "ax[0].set_xlabel('Número de usuarios por género (2021)')\n",
    "ax[0].set_ylabel('edad')\n",
    "ax[0].set_xticks(ticks=ticks,labels=labels)\n",
    "\n",
    "sns.barplot(x='count', y='age_range', ax=ax[1], data=mibici_grouped_by_age_range[data_by_gender('M') & data_by_year(2022)], order=ages, palette=\"Blues\", width=1)\n",
    "sns.barplot(x='count', y='age_range', ax=ax[1], data=mibici_grouped_by_age_range[data_by_gender('F') & data_by_year(2022)], order=ages, palette=\"RdPu\", width=1)\n",
    "ax[1].set_xlabel('Número de usuarios por género (2022)')\n",
    "ax[1].set_ylabel('edad')\n",
    "ax[1].set_xticks(ticks=ticks,labels=labels)\n",
    "\n",
    "sns.barplot(x='count', y='age_range', ax=ax[2], data=mibici_grouped_by_age_range[data_by_gender('M') & data_by_year(2023)], order=ages, palette=\"Blues\", width=1)\n",
    "sns.barplot(x='count', y='age_range', ax=ax[2], data=mibici_grouped_by_age_range[data_by_gender('F') & data_by_year(2023)], order=ages, palette=\"RdPu\", width=1)\n",
    "ax[2].set_xlabel('Número de usuarios por género (2023)')\n",
    "ax[2].set_ylabel('edad')\n",
    "ax[2].set_xticks(ticks=ticks,labels=labels)"
   ]
  },
  {
   "cell_type": "markdown",
   "id": "be82d931",
   "metadata": {},
   "source": [
    "### Estaciones \"origen\", donde inician la mayoría de viajes en bicicleta\n",
    "\n",
    "En el siguiente gráfico podemos observar cuales son las estaciones donde la mayoría de usuarios inicia su viaje, con este gráfico es visible las zonas con mayor demanda"
   ]
  },
  {
   "cell_type": "code",
   "execution_count": 230,
   "id": "ef15a347",
   "metadata": {
    "scrolled": false
   },
   "outputs": [
    {
     "data": {
      "text/html": [
       "<div style=\"width:100%;\"><div style=\"position:relative;width:100%;height:0;padding-bottom:60%;\"><span style=\"color:#565656\">Make this Notebook Trusted to load map: File -> Trust Notebook</span><iframe srcdoc=\"&lt;!DOCTYPE html&gt;\n",
       "&lt;html&gt;\n",
       "&lt;head&gt;\n",
       "    \n",
       "    &lt;meta http-equiv=&quot;content-type&quot; content=&quot;text/html; charset=UTF-8&quot; /&gt;\n",
       "    \n",
       "        &lt;script&gt;\n",
       "            L_NO_TOUCH = false;\n",
       "            L_DISABLE_3D = false;\n",
       "        &lt;/script&gt;\n",
       "    \n",
       "    &lt;style&gt;html, body {width: 100%;height: 100%;margin: 0;padding: 0;}&lt;/style&gt;\n",
       "    &lt;style&gt;#map {position:absolute;top:0;bottom:0;right:0;left:0;}&lt;/style&gt;\n",
       "    &lt;script src=&quot;https://cdn.jsdelivr.net/npm/leaflet@1.9.3/dist/leaflet.js&quot;&gt;&lt;/script&gt;\n",
       "    &lt;script src=&quot;https://code.jquery.com/jquery-1.12.4.min.js&quot;&gt;&lt;/script&gt;\n",
       "    &lt;script src=&quot;https://cdn.jsdelivr.net/npm/bootstrap@5.2.2/dist/js/bootstrap.bundle.min.js&quot;&gt;&lt;/script&gt;\n",
       "    &lt;script src=&quot;https://cdnjs.cloudflare.com/ajax/libs/Leaflet.awesome-markers/2.0.2/leaflet.awesome-markers.js&quot;&gt;&lt;/script&gt;\n",
       "    &lt;link rel=&quot;stylesheet&quot; href=&quot;https://cdn.jsdelivr.net/npm/leaflet@1.9.3/dist/leaflet.css&quot;/&gt;\n",
       "    &lt;link rel=&quot;stylesheet&quot; href=&quot;https://cdn.jsdelivr.net/npm/bootstrap@5.2.2/dist/css/bootstrap.min.css&quot;/&gt;\n",
       "    &lt;link rel=&quot;stylesheet&quot; href=&quot;https://netdna.bootstrapcdn.com/bootstrap/3.0.0/css/bootstrap.min.css&quot;/&gt;\n",
       "    &lt;link rel=&quot;stylesheet&quot; href=&quot;https://cdn.jsdelivr.net/npm/@fortawesome/fontawesome-free@6.2.0/css/all.min.css&quot;/&gt;\n",
       "    &lt;link rel=&quot;stylesheet&quot; href=&quot;https://cdnjs.cloudflare.com/ajax/libs/Leaflet.awesome-markers/2.0.2/leaflet.awesome-markers.css&quot;/&gt;\n",
       "    &lt;link rel=&quot;stylesheet&quot; href=&quot;https://cdn.jsdelivr.net/gh/python-visualization/folium/folium/templates/leaflet.awesome.rotate.min.css&quot;/&gt;\n",
       "    \n",
       "            &lt;meta name=&quot;viewport&quot; content=&quot;width=device-width,\n",
       "                initial-scale=1.0, maximum-scale=1.0, user-scalable=no&quot; /&gt;\n",
       "            &lt;style&gt;\n",
       "                #map_aa318a1a9c76df4aae3f825c7e3ac3d2 {\n",
       "                    position: relative;\n",
       "                    width: 100.0%;\n",
       "                    height: 100.0%;\n",
       "                    left: 0.0%;\n",
       "                    top: 0.0%;\n",
       "                }\n",
       "                .leaflet-container { font-size: 1rem; }\n",
       "            &lt;/style&gt;\n",
       "        \n",
       "    &lt;script src=&quot;https://cdn.jsdelivr.net/gh/python-visualization/folium@main/folium/templates/leaflet_heat.min.js&quot;&gt;&lt;/script&gt;\n",
       "&lt;/head&gt;\n",
       "&lt;body&gt;\n",
       "    \n",
       "    \n",
       "            &lt;div class=&quot;folium-map&quot; id=&quot;map_aa318a1a9c76df4aae3f825c7e3ac3d2&quot; &gt;&lt;/div&gt;\n",
       "        \n",
       "&lt;/body&gt;\n",
       "&lt;script&gt;\n",
       "    \n",
       "    \n",
       "            var map_aa318a1a9c76df4aae3f825c7e3ac3d2 = L.map(\n",
       "                &quot;map_aa318a1a9c76df4aae3f825c7e3ac3d2&quot;,\n",
       "                {\n",
       "                    center: [20.677161, -103.359465],\n",
       "                    crs: L.CRS.EPSG3857,\n",
       "                    zoom: 14,\n",
       "                    zoomControl: true,\n",
       "                    preferCanvas: false,\n",
       "                }\n",
       "            );\n",
       "\n",
       "            \n",
       "\n",
       "        \n",
       "    \n",
       "            var tile_layer_68efabd2748bbb28810d406195247b18 = L.tileLayer(\n",
       "                &quot;https://{s}.tile.openstreetmap.org/{z}/{x}/{y}.png&quot;,\n",
       "                {&quot;attribution&quot;: &quot;Data by \\u0026copy; \\u003ca target=\\&quot;_blank\\&quot; href=\\&quot;http://openstreetmap.org\\&quot;\\u003eOpenStreetMap\\u003c/a\\u003e, under \\u003ca target=\\&quot;_blank\\&quot; href=\\&quot;http://www.openstreetmap.org/copyright\\&quot;\\u003eODbL\\u003c/a\\u003e.&quot;, &quot;detectRetina&quot;: false, &quot;maxNativeZoom&quot;: 18, &quot;maxZoom&quot;: 18, &quot;minZoom&quot;: 0, &quot;noWrap&quot;: false, &quot;opacity&quot;: 1, &quot;subdomains&quot;: &quot;abc&quot;, &quot;tms&quot;: false}\n",
       "            ).addTo(map_aa318a1a9c76df4aae3f825c7e3ac3d2);\n",
       "        \n",
       "    \n",
       "            var heat_map_276d5d611291b70db9e1f5f6728f7c4a = L.heatLayer(\n",
       "                [[20.666378, -103.34882, 11446], [20.667228, -103.366, 11088], [20.66769, -103.368252, 16027], [20.69175, -103.36255, 11542], [20.6811575, -103.339363, 8462], [20.680717, -103.344415, 6291], [20.666771, -103.350562, 11778], [20.681871, -103.350396, 11611], [20.681984, -103.353835, 45403], [20.6818519, -103.3573381, 16577], [20.681081, -103.360099, 9422], [20.6820683, -103.3629218, 10620], [20.667623, -103.370499, 8120], [20.6821447, -103.3659297, 21435], [20.683191, -103.369349, 19578], [20.682007, -103.372642, 10606], [20.679086, -103.372841, 13374], [20.679296, -103.370658, 11177], [20.678835, -103.368045, 22640], [20.67966, -103.362224, 14654], [20.679389, -103.35913, 11914], [20.679309, -103.356281, 10406], [20.678777, -103.354035, 14473], [20.680227, -103.350146, 17371], [20.680478, -103.348377, 20157], [20.679861, -103.345198, 7257], [20.6840145, -103.3612673, 14516], [20.679899, -103.339438, 8483], [20.675461, -103.367501, 16298], [20.685652, -103.368215, 16540], [20.6772627, -103.344908, 24506], [20.677419, -103.347983, 40810], [20.676461, -103.350244, 17309], [20.677315, -103.3534145, 9321], [20.676078, -103.356458, 25268], [20.678034, -103.358466, 12111], [20.676656, -103.362331, 12924], [20.677108, -103.365088, 7583], [20.676067, -103.367049, 13996], [20.67671, -103.37066, 10348], [20.676628, -103.372687, 9319], [20.673756, -103.372613, 13438], [20.674636, -103.371639, 11007], [20.675444, -103.370147, 9222], [20.675014, -103.365025, 7014], [20.674931, -103.362351, 15069], [20.674721, -103.358548, 40490], [20.6740865, -103.3563196, 64858], [20.675746, -103.354579, 39919], [20.674559, -103.352663, 22593], [20.675244, -103.347889, 37894], [20.675401, -103.345665, 6268], [20.675421, -103.342049, 22759], [20.672696, -103.345366, 5551], [20.671971, -103.347422, 28270], [20.672516, -103.349573, 8633], [20.672641, -103.353542, 9657], [20.672231, -103.355508, 11458], [20.6734, -103.357684, 15449], [20.671778, -103.361274, 20856], [20.673072, -103.365055, 18637], [20.674132, -103.366139, 24360], [20.673321, -103.370571, 24244], [20.6722064, -103.372588, 10974], [20.671364, -103.371786, 10189], [20.6668825, -103.3555917, 22646], [20.670512, -103.368306, 14390], [20.670468, -103.366071, 9947], [20.671455, -103.363633, 14028], [20.670362, -103.359537, 17195], [20.67056, -103.357589, 11650], [20.669955, -103.355032, 26279], [20.67131, -103.351651, 9029], [20.669628, -103.348768, 9128], [20.670243, -103.346195, 10168], [20.675631, -103.36134, 13500], [20.667946, -103.346775, 16742], [20.6688627, -103.3513022, 11129], [20.68432, -103.373252, 12167], [20.667352, -103.363338, 8967], [20.669326, -103.362535, 12167], [20.667532, -103.3595222, 16869], [20.669306, -103.368312, 17256], [20.670426, -103.373378, 5897], [20.66704, -103.372444, 7597], [20.73244, -103.396083, 1794], [20.726376, -103.397466, 3914], [20.723081, -103.398071, 3036], [20.69995, -103.342347, 2377], [20.730841, -103.394267, 1526], [20.71953, -103.386768, 3156], [20.72201, -103.39427, 3105], [20.723889, -103.394585, 2751], [20.726558, -103.389242, 866], [20.728538, -103.390297, 9168], [20.720438, -103.391894, 3326], [20.7352743, -103.3997461, 830], [20.735255, -103.394636, 2825], [20.721643, -103.3902, 4691], [20.72374, -103.388657, 1560], [20.7276186, -103.3859946, 7731], [20.720987, -103.38625, 11457], [20.72826248, -103.3839981, 3009], [20.722427, -103.383, 4620], [20.731202, -103.380651, 4041], [20.720452, -103.388629, 3221], [20.737087, -103.401285, 3564], [20.728147, -103.393858, 1620], [20.736557, -103.401357, 2796], [20.67342, -103.40945, 4543], [20.67195, -103.40641, 6786], [20.6707, -103.40458, 3625], [20.66984, -103.40968, 2623], [20.66844, -103.40495, 1960], [20.66731, -103.40953, 3839], [20.666914, -103.402512, 7998], [20.666033, -103.40687, 2249], [20.66312806, -103.4079076, 3620], [20.66033761, -103.4037559, 2147], [20.66463, -103.404, 3102], [20.65925105, -103.4065612, 1276], [20.65938, -103.40195, 1991], [20.65701, -103.40464, 1931], [20.656866, -103.397725, 2421], [20.65381, -103.40134, 3200], [20.64483, -103.31948, 4760], [20.6383352, -103.3163317, 6791], [20.64193, -103.31366, 2056], [20.64185, -103.3106, 1761], [20.64188, -103.30651, 728], [20.64176, -103.31716, 5687], [20.63816, -103.31148, 5809], [20.63834, -103.30952, 2151], [20.63922, -103.30465, 2605], [20.63613, -103.3019, 1491], [20.69493, -103.37333, 14689], [20.6972, -103.36773, 8577], [20.68456, -103.35699, 15743], [20.69865, -103.35519, 20206], [20.696097, -103.349382, 12336], [20.69610588, -103.3549492, 7019], [20.69311, -103.37298, 19308], [20.69324, -103.36757, 11827], [20.692725, -103.3516, 6413], [20.6891, -103.35071, 8794], [20.6893258, -103.3581231, 8564], [20.6919612, -103.3540408, 14017], [20.687196, -103.350525, 7434], [20.69269, -103.37082, 6697], [20.68969, -103.37486, 11710], [20.68985, -103.37071, 12291], [20.68861, -103.365814, 15984], [20.68348, -103.34853, 18683], [20.6822, -103.34601, 10842], [20.68465, -103.34526, 22284], [20.68981, -103.353973, 11519], [20.68586, -103.33964, 12219], [20.68725, -103.37363, 8142], [20.68723, -103.37084, 10240], [20.6863794, -103.3368076, 7475], [20.687, -103.36582, 15699], [20.6880337, -103.362716, 12474], [20.68925, -103.3361, 8025], [20.68605, -103.35408, 16365], [20.68447, -103.37989, 6950], [20.68427, -103.37653, 6257], [20.68168, -103.38197, 4033], [20.68153, -103.3785, 4434], [20.68132, -103.37537, 5686], [20.67914, -103.38253, 12466], [20.67947, -103.37926, 6471], [20.67945, -103.376, 7294], [20.67759901, -103.3838465, 8324], [20.67691, -103.37993, 5477], [20.67647, -103.37606, 8149], [20.67438, -103.38488, 29082], [20.67554, -103.38409, 11524], [20.67455, -103.37998, 20458], [20.67448, -103.37618, 12293], [20.67206, -103.384, 10756], [20.67207, -103.37997, 18966], [20.67189, -103.37608, 10246], [20.670209, -103.384221, 10394], [20.66868, -103.3731, 6821], [20.66927, -103.37983, 10170], [20.66957, -103.37623, 5359], [20.66557, -103.39134, 3746], [20.66667, -103.38863, 6561], [20.66816, -103.38488, 11618], [20.66702, -103.37621, 5928], [20.6647, -103.38855, 3005], [20.6625, -103.38407, 9394], [20.669931, -103.394307, 6044], [20.66736, -103.3947, 4674], [20.6662882, -103.3988986, 4546], [20.66623, -103.39654, 3998], [20.66501, -103.39788, 2632], [20.66511, -103.39388, 6683], [20.661387, -103.392533, 1457], [20.66, -103.39496, 1642], [20.65931, -103.38884, 2204], [20.65846, -103.39092, 1443], [20.65761, -103.39363, 3309], [20.65712973, -103.3883797, 2546], [20.654709, -103.391595, 4575], [20.65158, -103.38957, 4773], [20.66468, -103.33357, 13895], [20.66114, -103.3315, 4354], [20.65925, -103.33055, 4222], [20.65721, -103.33046, 6369], [20.657817, -103.32898, 4957], [20.655, -103.32186, 4632], [20.65251, -103.32553, 8336], [20.65475, -103.32719, 6483], [20.64962, -103.32356, 5871], [20.64874, -103.31939, 7198], [20.64707, -103.32147, 7261], [20.64698, -103.30619, 1851], [20.6461, -103.3102, 2974], [20.64434, -103.30678, 1730], [20.64504, -103.30518, 754], [20.6641, -103.4003, 3732], [20.66234072, -103.3981344, 2459], [20.67276201, -103.3976249, 3550], [20.68669, -103.37657, 7220], [20.6853596, -103.3339031, 6113], [20.68795, -103.33343, 8783], [20.68692, -103.33467, 2995], [20.69705, -103.36322, 10878], [20.639042, -103.301239, 5615], [20.6731682, -103.3826893, 13447], [20.67848, -103.365103, 12229], [20.6843419, -103.3646036, 12209], [20.6639862, -103.3480775, 18949], [20.659581, -103.324147, 14602], [20.66318, -103.32942, 4785], [20.66429, -103.3628, 10146], [20.6729309, -103.3473189, 26607], [20.70928, -103.37015, 4778], [20.6692, -103.34116, 12062], [20.6708, -103.34385, 10953], [20.6744, -103.34123, 5437], [20.70656, -103.36564, 10716], [20.70211, -103.35996, 11742], [20.65048, -103.30999, 9828], [20.67529, -103.34656, 19388], [20.68361, -103.33756, 7977], [20.64517, -103.30313, 3800], [20.68504, -103.34796, 43024], [20.6891, -103.34806, 21789], [20.69406, -103.34824, 21041], [20.69442, -103.34474, 4808], [20.69898, -103.34893, 12750], [20.70046, -103.35478, 8467], [20.6651, -103.36807, 9409], [20.66265, -103.36554, 6643], [20.66231, -103.36011, 7688], [20.66563, -103.35802, 8089], [20.66081, -103.35704, 15846], [20.6605183, -103.3503245, 6294], [20.65775, -103.35132, 11967], [20.65883, -103.35468, 4189], [20.70047, -103.36158, 6705], [20.73231, -103.38763, 5677], [20.73445, -103.3985614, 1123], [20.72958, -103.38859, 13213], [20.7178, -103.38338, 4998], [20.73432, -103.38427, 3527], [20.73837, -103.38057, 9890], [20.73245, -103.39291, 1434], [20.73836, -103.38299, 2356], [20.73441, -103.38079, 2236], [20.73154, -103.38515, 4650], [20.71365, -103.37742, 10266], [20.639187, -103.3086, 3375], [20.684519, -103.383085, 12052], [20.702745, -103.356511, 5496], [20.6679675, -103.326566, 2946], [20.660955, -103.408683, 2546], [20.6991544, -103.3599679, 2821], [20.6649061, -103.4109615, 2440], [20.6669929, -103.4133282, 2626], [20.6644831, -103.4130582, 1575], [20.6964426, -103.3592252, 5831], [20.6515919, -103.4027691, 6788], [20.6637066, -103.4178168, 3984], [20.6604258, -103.4136351, 1764], [20.6638448, -103.4151424, 2677], [20.6587944, -103.41456, 1906], [20.6649445, -103.3266332, 1661], [20.6674498, -103.3295016, 1558], [20.656551, -103.4194212, 4832], [20.6579741, -103.4173432, 1617], [20.664447, -103.3853111, 5480], [20.6542657, -103.3159228, 3760], [20.70467, -103.345589, 6384], [20.700192, -103.345961, 4628], [20.652408, -103.312902, 2586], [20.698197, -103.342554, 2275], [20.695636, -103.339378, 4098]],\n",
       "                {&quot;blur&quot;: 6, &quot;maxZoom&quot;: 20, &quot;minOpacity&quot;: 0.8, &quot;radius&quot;: 7}\n",
       "            ).addTo(map_aa318a1a9c76df4aae3f825c7e3ac3d2);\n",
       "        \n",
       "&lt;/script&gt;\n",
       "&lt;/html&gt;\" style=\"position:absolute;width:100%;height:100%;left:0;top:0;border:none !important;\" allowfullscreen webkitallowfullscreen mozallowfullscreen></iframe></div></div>"
      ],
      "text/plain": [
       "<folium.folium.Map at 0x7fcebc248a60>"
      ]
     },
     "execution_count": 230,
     "metadata": {},
     "output_type": "execute_result"
    }
   ],
   "source": [
    "mibici_origin_count = mibici_df.groupby(['origin_id','origin_obcn', 'origin_latitude', 'origin_longitude'])['origin_id'].count().reset_index(name=\"count\").reset_index(drop=True)\n",
    "\n",
    "origin_hmap = folium.Map(location=[20.677161, -103.359465], zoom_start=14, tiles=\"OpenStreetMap\")\n",
    "origin_heat_map = HeatMap( \n",
    "    list(zip(\n",
    "        mibici_origin_count['origin_latitude'], \n",
    "        mibici_origin_count['origin_longitude'], \n",
    "        mibici_origin_count['count']\n",
    "    )),\n",
    "    min_opacity=0.8,\n",
    "    radius=7, blur=6,\n",
    "    max_zoom=20,\n",
    ")\n",
    "origin_hmap.add_child(origin_heat_map)"
   ]
  },
  {
   "cell_type": "markdown",
   "id": "497f8f59",
   "metadata": {},
   "source": [
    "### Estaciones \"destino\", donde inician la mayoría de viajes en bicicleta\n",
    "\n",
    "En el siguiente gráfico podemos observar cuales son las estaciones donde la mayoría de usuarios finaliza su viaje, con este gráfico es visible las zonas con mayor demanda."
   ]
  },
  {
   "cell_type": "code",
   "execution_count": 231,
   "id": "8579e0de",
   "metadata": {},
   "outputs": [
    {
     "data": {
      "text/html": [
       "<div style=\"width:100%;\"><div style=\"position:relative;width:100%;height:0;padding-bottom:60%;\"><span style=\"color:#565656\">Make this Notebook Trusted to load map: File -> Trust Notebook</span><iframe srcdoc=\"&lt;!DOCTYPE html&gt;\n",
       "&lt;html&gt;\n",
       "&lt;head&gt;\n",
       "    \n",
       "    &lt;meta http-equiv=&quot;content-type&quot; content=&quot;text/html; charset=UTF-8&quot; /&gt;\n",
       "    \n",
       "        &lt;script&gt;\n",
       "            L_NO_TOUCH = false;\n",
       "            L_DISABLE_3D = false;\n",
       "        &lt;/script&gt;\n",
       "    \n",
       "    &lt;style&gt;html, body {width: 100%;height: 100%;margin: 0;padding: 0;}&lt;/style&gt;\n",
       "    &lt;style&gt;#map {position:absolute;top:0;bottom:0;right:0;left:0;}&lt;/style&gt;\n",
       "    &lt;script src=&quot;https://cdn.jsdelivr.net/npm/leaflet@1.9.3/dist/leaflet.js&quot;&gt;&lt;/script&gt;\n",
       "    &lt;script src=&quot;https://code.jquery.com/jquery-1.12.4.min.js&quot;&gt;&lt;/script&gt;\n",
       "    &lt;script src=&quot;https://cdn.jsdelivr.net/npm/bootstrap@5.2.2/dist/js/bootstrap.bundle.min.js&quot;&gt;&lt;/script&gt;\n",
       "    &lt;script src=&quot;https://cdnjs.cloudflare.com/ajax/libs/Leaflet.awesome-markers/2.0.2/leaflet.awesome-markers.js&quot;&gt;&lt;/script&gt;\n",
       "    &lt;link rel=&quot;stylesheet&quot; href=&quot;https://cdn.jsdelivr.net/npm/leaflet@1.9.3/dist/leaflet.css&quot;/&gt;\n",
       "    &lt;link rel=&quot;stylesheet&quot; href=&quot;https://cdn.jsdelivr.net/npm/bootstrap@5.2.2/dist/css/bootstrap.min.css&quot;/&gt;\n",
       "    &lt;link rel=&quot;stylesheet&quot; href=&quot;https://netdna.bootstrapcdn.com/bootstrap/3.0.0/css/bootstrap.min.css&quot;/&gt;\n",
       "    &lt;link rel=&quot;stylesheet&quot; href=&quot;https://cdn.jsdelivr.net/npm/@fortawesome/fontawesome-free@6.2.0/css/all.min.css&quot;/&gt;\n",
       "    &lt;link rel=&quot;stylesheet&quot; href=&quot;https://cdnjs.cloudflare.com/ajax/libs/Leaflet.awesome-markers/2.0.2/leaflet.awesome-markers.css&quot;/&gt;\n",
       "    &lt;link rel=&quot;stylesheet&quot; href=&quot;https://cdn.jsdelivr.net/gh/python-visualization/folium/folium/templates/leaflet.awesome.rotate.min.css&quot;/&gt;\n",
       "    \n",
       "            &lt;meta name=&quot;viewport&quot; content=&quot;width=device-width,\n",
       "                initial-scale=1.0, maximum-scale=1.0, user-scalable=no&quot; /&gt;\n",
       "            &lt;style&gt;\n",
       "                #map_f44987c17da6d5cfa3c856343e3cd2a5 {\n",
       "                    position: relative;\n",
       "                    width: 100.0%;\n",
       "                    height: 100.0%;\n",
       "                    left: 0.0%;\n",
       "                    top: 0.0%;\n",
       "                }\n",
       "                .leaflet-container { font-size: 1rem; }\n",
       "            &lt;/style&gt;\n",
       "        \n",
       "    &lt;script src=&quot;https://cdn.jsdelivr.net/gh/python-visualization/folium@main/folium/templates/leaflet_heat.min.js&quot;&gt;&lt;/script&gt;\n",
       "&lt;/head&gt;\n",
       "&lt;body&gt;\n",
       "    \n",
       "    \n",
       "            &lt;div class=&quot;folium-map&quot; id=&quot;map_f44987c17da6d5cfa3c856343e3cd2a5&quot; &gt;&lt;/div&gt;\n",
       "        \n",
       "&lt;/body&gt;\n",
       "&lt;script&gt;\n",
       "    \n",
       "    \n",
       "            var map_f44987c17da6d5cfa3c856343e3cd2a5 = L.map(\n",
       "                &quot;map_f44987c17da6d5cfa3c856343e3cd2a5&quot;,\n",
       "                {\n",
       "                    center: [20.677161, -103.359465],\n",
       "                    crs: L.CRS.EPSG3857,\n",
       "                    zoom: 14,\n",
       "                    zoomControl: true,\n",
       "                    preferCanvas: false,\n",
       "                }\n",
       "            );\n",
       "\n",
       "            \n",
       "\n",
       "        \n",
       "    \n",
       "            var tile_layer_4ead8e98436b16056cefb67bcfd23cdb = L.tileLayer(\n",
       "                &quot;https://{s}.tile.openstreetmap.org/{z}/{x}/{y}.png&quot;,\n",
       "                {&quot;attribution&quot;: &quot;Data by \\u0026copy; \\u003ca target=\\&quot;_blank\\&quot; href=\\&quot;http://openstreetmap.org\\&quot;\\u003eOpenStreetMap\\u003c/a\\u003e, under \\u003ca target=\\&quot;_blank\\&quot; href=\\&quot;http://www.openstreetmap.org/copyright\\&quot;\\u003eODbL\\u003c/a\\u003e.&quot;, &quot;detectRetina&quot;: false, &quot;maxNativeZoom&quot;: 18, &quot;maxZoom&quot;: 18, &quot;minZoom&quot;: 0, &quot;noWrap&quot;: false, &quot;opacity&quot;: 1, &quot;subdomains&quot;: &quot;abc&quot;, &quot;tms&quot;: false}\n",
       "            ).addTo(map_f44987c17da6d5cfa3c856343e3cd2a5);\n",
       "        \n",
       "    \n",
       "            var heat_map_12c69b3d18ee9419aa17c461100f2078 = L.heatLayer(\n",
       "                [[20.666378, -103.34882, 12579], [20.667228, -103.366, 9566], [20.66769, -103.368252, 15212], [20.69175, -103.36255, 11575], [20.6811575, -103.339363, 10724], [20.680717, -103.344415, 7125], [20.666771, -103.350562, 13329], [20.681871, -103.350396, 12477], [20.681984, -103.353835, 42086], [20.6818519, -103.3573381, 17596], [20.681081, -103.360099, 8841], [20.6820683, -103.3629218, 9982], [20.667623, -103.370499, 7392], [20.6821447, -103.3659297, 21244], [20.683191, -103.369349, 18817], [20.682007, -103.372642, 9571], [20.679086, -103.372841, 11697], [20.679296, -103.370658, 9993], [20.678835, -103.368045, 20986], [20.67966, -103.362224, 14512], [20.679389, -103.35913, 11113], [20.679309, -103.356281, 10426], [20.678777, -103.354035, 14227], [20.680227, -103.350146, 17670], [20.680478, -103.348377, 20132], [20.679861, -103.345198, 8323], [20.6840145, -103.3612673, 14161], [20.679899, -103.339438, 11274], [20.675461, -103.367501, 14212], [20.685652, -103.368215, 15994], [20.6772627, -103.344908, 32169], [20.677419, -103.347983, 44845], [20.676461, -103.350244, 18852], [20.677315, -103.3534145, 9056], [20.676078, -103.356458, 25908], [20.678034, -103.358466, 11537], [20.676656, -103.362331, 12163], [20.677108, -103.365088, 7183], [20.676067, -103.367049, 18447], [20.67671, -103.37066, 9586], [20.676628, -103.372687, 7807], [20.673756, -103.372613, 12052], [20.674636, -103.371639, 9521], [20.675444, -103.370147, 7033], [20.675014, -103.365025, 7002], [20.674931, -103.362351, 14426], [20.674721, -103.358548, 42904], [20.6740865, -103.3563196, 79872], [20.675746, -103.354579, 39999], [20.674559, -103.352663, 23863], [20.675244, -103.347889, 41656], [20.675401, -103.345665, 6774], [20.675421, -103.342049, 28796], [20.672696, -103.345366, 6855], [20.671971, -103.347422, 33658], [20.672516, -103.349573, 9524], [20.672641, -103.353542, 9881], [20.672231, -103.355508, 11377], [20.6734, -103.357684, 16519], [20.671778, -103.361274, 21404], [20.673072, -103.365055, 19721], [20.674132, -103.366139, 23125], [20.673321, -103.370571, 23824], [20.6722064, -103.372588, 9597], [20.671364, -103.371786, 9830], [20.6668825, -103.3555917, 22365], [20.670512, -103.368306, 14536], [20.670468, -103.366071, 9174], [20.671455, -103.363633, 14040], [20.670362, -103.359537, 16942], [20.67056, -103.357589, 10714], [20.669955, -103.355032, 26335], [20.67131, -103.351651, 9214], [20.669628, -103.348768, 10294], [20.670243, -103.346195, 14006], [20.675631, -103.36134, 13957], [20.667946, -103.346775, 18553], [20.6688627, -103.3513022, 11894], [20.68432, -103.373252, 9305], [20.667352, -103.363338, 8892], [20.669326, -103.362535, 11691], [20.667532, -103.3595222, 18137], [20.669306, -103.368312, 16997], [20.670426, -103.373378, 4460], [20.66704, -103.372444, 5900], [20.73244, -103.396083, 1596], [20.726376, -103.397466, 3434], [20.723081, -103.398071, 2369], [20.69995, -103.342347, 4657], [20.730841, -103.394267, 1351], [20.71953, -103.386768, 2498], [20.72201, -103.39427, 2385], [20.723889, -103.394585, 2308], [20.726558, -103.389242, 762], [20.728538, -103.390297, 9154], [20.720438, -103.391894, 2971], [20.7352743, -103.3997461, 444], [20.735255, -103.394636, 2801], [20.721643, -103.3902, 4237], [20.72374, -103.388657, 1354], [20.7276186, -103.3859946, 8021], [20.720987, -103.38625, 10760], [20.72826248, -103.3839981, 3383], [20.722427, -103.383, 5235], [20.731202, -103.380651, 4752], [20.720452, -103.388629, 3053], [20.737087, -103.401285, 3062], [20.728147, -103.393858, 1151], [20.736557, -103.401357, 1700], [20.67342, -103.40945, 2789], [20.67195, -103.40641, 5378], [20.6707, -103.40458, 2512], [20.66984, -103.40968, 1594], [20.66844, -103.40495, 1210], [20.66731, -103.40953, 3354], [20.666914, -103.402512, 7295], [20.666033, -103.40687, 1974], [20.66312806, -103.4079076, 2613], [20.66033761, -103.4037559, 1605], [20.66463, -103.404, 2466], [20.65925105, -103.4065612, 1227], [20.65938, -103.40195, 1717], [20.65701, -103.40464, 1695], [20.656866, -103.397725, 1860], [20.65381, -103.40134, 3040], [20.64483, -103.31948, 4911], [20.6383352, -103.3163317, 6494], [20.64193, -103.31366, 1640], [20.64185, -103.3106, 1424], [20.64188, -103.30651, 553], [20.64176, -103.31716, 5246], [20.63816, -103.31148, 5709], [20.63834, -103.30952, 1713], [20.63922, -103.30465, 1935], [20.63613, -103.3019, 1162], [20.69493, -103.37333, 13417], [20.6972, -103.36773, 8288], [20.68456, -103.35699, 15373], [20.69865, -103.35519, 21058], [20.696097, -103.349382, 13549], [20.69610588, -103.3549492, 8063], [20.69311, -103.37298, 19084], [20.69324, -103.36757, 11128], [20.692725, -103.3516, 7881], [20.6891, -103.35071, 9380], [20.6893258, -103.3581231, 8741], [20.6919612, -103.3540408, 13622], [20.687196, -103.350525, 7318], [20.69269, -103.37082, 4397], [20.68969, -103.37486, 10175], [20.68985, -103.37071, 10832], [20.68861, -103.365814, 14971], [20.68348, -103.34853, 19630], [20.6822, -103.34601, 12519], [20.68465, -103.34526, 22894], [20.68981, -103.353973, 12498], [20.68586, -103.33964, 14682], [20.68725, -103.37363, 6427], [20.68723, -103.37084, 8939], [20.6863794, -103.3368076, 10875], [20.687, -103.36582, 14238], [20.6880337, -103.362716, 11635], [20.68925, -103.3361, 9488], [20.68605, -103.35408, 15945], [20.68447, -103.37989, 5264], [20.68427, -103.37653, 4858], [20.68168, -103.38197, 2895], [20.68153, -103.3785, 3277], [20.68132, -103.37537, 4652], [20.67914, -103.38253, 9479], [20.67947, -103.37926, 5391], [20.67945, -103.376, 6018], [20.67759901, -103.3838465, 5923], [20.67691, -103.37993, 4072], [20.67647, -103.37606, 6431], [20.67438, -103.38488, 19648], [20.67554, -103.38409, 8035], [20.67455, -103.37998, 15875], [20.67448, -103.37618, 9666], [20.67206, -103.384, 8129], [20.67207, -103.37997, 16330], [20.67189, -103.37608, 8405], [20.670209, -103.384221, 7496], [20.66868, -103.3731, 6308], [20.66927, -103.37983, 7964], [20.66957, -103.37623, 4615], [20.66557, -103.39134, 2358], [20.66667, -103.38863, 5669], [20.66816, -103.38488, 10553], [20.66702, -103.37621, 4945], [20.6647, -103.38855, 2243], [20.6625, -103.38407, 8083], [20.669931, -103.394307, 5147], [20.66736, -103.3947, 3003], [20.6662882, -103.3988986, 3862], [20.66623, -103.39654, 2492], [20.66501, -103.39788, 1786], [20.66511, -103.39388, 4682], [20.661387, -103.392533, 1109], [20.66, -103.39496, 1100], [20.65931, -103.38884, 1550], [20.65846, -103.39092, 1071], [20.65761, -103.39363, 2548], [20.65712973, -103.3883797, 1807], [20.654709, -103.391595, 3313], [20.65158, -103.38957, 5065], [20.66468, -103.33357, 13994], [20.66114, -103.3315, 4766], [20.65925, -103.33055, 4910], [20.65721, -103.33046, 7230], [20.657817, -103.32898, 5971], [20.655, -103.32186, 4552], [20.65251, -103.32553, 9690], [20.65475, -103.32719, 7691], [20.64962, -103.32356, 7085], [20.64874, -103.31939, 7134], [20.64707, -103.32147, 8072], [20.64698, -103.30619, 1783], [20.6461, -103.3102, 2371], [20.64434, -103.30678, 1574], [20.64504, -103.30518, 442], [20.6641, -103.4003, 2910], [20.66234072, -103.3981344, 1954], [20.67276201, -103.3976249, 2888], [20.68669, -103.37657, 5526], [20.6853596, -103.3339031, 6715], [20.68795, -103.33343, 13158], [20.68692, -103.33467, 5111], [20.69705, -103.36322, 10931], [20.639042, -103.301239, 4193], [20.6731682, -103.3826893, 11650], [20.67848, -103.365103, 10866], [20.6843419, -103.3646036, 11274], [20.6639862, -103.3480775, 20317], [20.659581, -103.324147, 15095], [20.66318, -103.32942, 4901], [20.66429, -103.3628, 10533], [20.6729309, -103.3473189, 32620], [20.70928, -103.37015, 8292], [20.6692, -103.34116, 12691], [20.6708, -103.34385, 14664], [20.6744, -103.34123, 7172], [20.70656, -103.36564, 13776], [20.70211, -103.35996, 12388], [20.65048, -103.30999, 7793], [20.67529, -103.34656, 21511], [20.68361, -103.33756, 11752], [20.64517, -103.30313, 3850], [20.68504, -103.34796, 41568], [20.6891, -103.34806, 21501], [20.69406, -103.34824, 26862], [20.69442, -103.34474, 9376], [20.69898, -103.34893, 14046], [20.70046, -103.35478, 10428], [20.6651, -103.36807, 8441], [20.66265, -103.36554, 6614], [20.66231, -103.36011, 8030], [20.66563, -103.35802, 8996], [20.66081, -103.35704, 14593], [20.6605183, -103.3503245, 7447], [20.65775, -103.35132, 12643], [20.65883, -103.35468, 4487], [20.70047, -103.36158, 7143], [20.73231, -103.38763, 5106], [20.73445, -103.3985614, 884], [20.72958, -103.38859, 9876], [20.7178, -103.38338, 5904], [20.73432, -103.38427, 3595], [20.73837, -103.38057, 11419], [20.73245, -103.39291, 1326], [20.73836, -103.38299, 2848], [20.73441, -103.38079, 2891], [20.73154, -103.38515, 4645], [20.71365, -103.37742, 14124], [20.639187, -103.3086, 3719], [20.684519, -103.383085, 8993], [20.702745, -103.356511, 6634], [20.6679675, -103.326566, 3118], [20.660955, -103.408683, 1914], [20.6991544, -103.3599679, 2931], [20.6649061, -103.4109615, 1860], [20.6669929, -103.4133282, 2147], [20.6644831, -103.4130582, 817], [20.6964426, -103.3592252, 6268], [20.6515919, -103.4027691, 6540], [20.6637066, -103.4178168, 2905], [20.6604258, -103.4136351, 1390], [20.6638448, -103.4151424, 1705], [20.6587944, -103.41456, 1470], [20.6649445, -103.3266332, 1492], [20.6674498, -103.3295016, 1610], [20.656551, -103.4194212, 3955], [20.6579741, -103.4173432, 902], [20.664447, -103.3853111, 4529], [20.6542657, -103.3159228, 3493], [20.70467, -103.345589, 9574], [20.700192, -103.345961, 6122], [20.652408, -103.312902, 1837], [20.698197, -103.342554, 3478], [20.695636, -103.339378, 8373]],\n",
       "                {&quot;blur&quot;: 6, &quot;maxZoom&quot;: 20, &quot;minOpacity&quot;: 0.8, &quot;radius&quot;: 7}\n",
       "            ).addTo(map_f44987c17da6d5cfa3c856343e3cd2a5);\n",
       "        \n",
       "&lt;/script&gt;\n",
       "&lt;/html&gt;\" style=\"position:absolute;width:100%;height:100%;left:0;top:0;border:none !important;\" allowfullscreen webkitallowfullscreen mozallowfullscreen></iframe></div></div>"
      ],
      "text/plain": [
       "<folium.folium.Map at 0x7fced70ac2e0>"
      ]
     },
     "execution_count": 231,
     "metadata": {},
     "output_type": "execute_result"
    }
   ],
   "source": [
    "mibici_destination_count = mibici_df.groupby(['destination_id','destination_obcn', 'destination_latitude', 'destination_longitude'])['destination_id'].count().reset_index(name=\"count\").reset_index(drop=True)\n",
    "\n",
    "destination_hmap = folium.Map(location=[20.677161, -103.359465], zoom_start=14, tiles=\"OpenStreetMap\")\n",
    "destination_heat_map = HeatMap( \n",
    "    list(zip(\n",
    "        mibici_destination_count['destination_latitude'], \n",
    "        mibici_destination_count['destination_longitude'], \n",
    "        mibici_destination_count['count']\n",
    "    )),\n",
    "    min_opacity=0.8,\n",
    "    radius=7, blur=6,\n",
    "    max_zoom=20,\n",
    ")\n",
    "destination_hmap.add_child(destination_heat_map)"
   ]
  },
  {
   "cell_type": "code",
   "execution_count": null,
   "id": "905621cc",
   "metadata": {},
   "outputs": [],
   "source": []
  }
 ],
 "metadata": {
  "kernelspec": {
   "display_name": "Python 3 (ipykernel)",
   "language": "python",
   "name": "python3"
  },
  "language_info": {
   "codemirror_mode": {
    "name": "ipython",
    "version": 3
   },
   "file_extension": ".py",
   "mimetype": "text/x-python",
   "name": "python",
   "nbconvert_exporter": "python",
   "pygments_lexer": "ipython3",
   "version": "3.10.13"
  }
 },
 "nbformat": 4,
 "nbformat_minor": 5
}
